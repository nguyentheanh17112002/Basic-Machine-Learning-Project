{
 "cells": [
  {
   "cell_type": "code",
   "execution_count": 1,
   "id": "b36e9586",
   "metadata": {},
   "outputs": [],
   "source": [
    "import cv2\n",
    "import numpy as np"
   ]
  },
  {
   "cell_type": "markdown",
   "id": "b1e56174",
   "metadata": {},
   "source": [
    "# Problem 1"
   ]
  },
  {
   "cell_type": "code",
   "execution_count": 2,
   "id": "2115b1a8",
   "metadata": {},
   "outputs": [],
   "source": [
    "def pixel_wise_matching(left_image_path, right_image_path, disparity_range, compute_type = 'l1', save_result = 'True'):\n",
    "    \n",
    "    \n",
    "    left_image = cv2.imread(left_image_path, 0)\n",
    "    right_image = cv2.imread(right_image_path, 0)\n",
    "    \n",
    "    left_image = left_image.astype(np.float32)\n",
    "    right_image = right_image.astype(np.float32)\n",
    "    \n",
    "    h, w = left_image.shape\n",
    "    \n",
    "    cost_space = np.full((h,w, disparity_range), 255, dtype = np.float32)\n",
    "    \n",
    "    if(compute_type == \"l2\"):\n",
    "        for i in range(disparity_range):\n",
    "            left_d = left_image[:, i:w]\n",
    "            right_d = right_image[:, :w-i]\n",
    "            ad = np.sqrt((left_d - right_d)**2)\n",
    "            cost_space[:,i:w, i] = ad\n",
    "    else:\n",
    "        for i in range(disparity_range):\n",
    "            left_d = left_image[:, i:w]\n",
    "            right_d = right_image[:, :w-i]\n",
    "            ad = np.abs(left_d - right_d)\n",
    "            cost_space[:,i:w, i] = ad\n",
    "    \n",
    "    scale = 255/disparity_range\n",
    "    depth = np.argmin(cost_space, axis = 2)\n",
    "    \n",
    "    depth = depth*scale\n",
    "    \n",
    "    depth = depth.astype(np.uint8)\n",
    "    \n",
    "    if(save_result == 'True' ):\n",
    "        cv2.imwrite(\"Aloe\\problem_1.png\",depth)"
   ]
  },
  {
   "cell_type": "code",
   "execution_count": 3,
   "id": "1a63e5f7",
   "metadata": {},
   "outputs": [],
   "source": [
    "left_path = \"Aloe\\Aloe_left_1.png\"\n",
    "right_path = \"Aloe\\Aloe_right_1.png\"\n",
    "\n",
    "pixel_wise_matching(left_path, right_path, 10, 'l1', 'True')"
   ]
  },
  {
   "cell_type": "markdown",
   "id": "3e153e40",
   "metadata": {},
   "source": [
    "# Problem 2"
   ]
  },
  {
   "cell_type": "code",
   "execution_count": 13,
   "id": "086b8617",
   "metadata": {},
   "outputs": [],
   "source": [
    "def compute_integral(A):\n",
    "    data = np.cumsum(A,axis = 0)\n",
    "    data = np.cumsum(A,axis = 1)\n",
    "    return data"
   ]
  },
  {
   "cell_type": "code",
   "execution_count": null,
   "id": "a9b9ddba",
   "metadata": {},
   "outputs": [],
   "source": [
    "def window_base_matching(left_image_path, right_image_path, disparity_range, compute_type = 'l1', kernel_size = 5, save_result = 'True'):\n",
    "    \n",
    "    left_image = cv2.imread(left_image_path, 0)\n",
    "    right_image = cv2.imread(right_image_path, 0)\n",
    "    \n",
    "    left_image = left_image.astype(np.float32)\n",
    "    right_image = right_image.astype(np.float32)\n",
    "    \n",
    "    h, w = left_image.shape\n",
    "    \n",
    "    cost_space = np.full((h,w, disparity_range), 255, dtype = np.float32)\n",
    "    \n",
    "    for i in range(disparity_range):\n",
    "        left_d = left_image[:,0 :w - d]\n",
    "        right_d = right_image[:,d:w]\n",
    "        ad = np.abs(left_d - right_d)\n",
    "        cost_space[]\n",
    "    "
   ]
  }
 ],
 "metadata": {
  "kernelspec": {
   "display_name": "Python 3 (ipykernel)",
   "language": "python",
   "name": "python3"
  },
  "language_info": {
   "codemirror_mode": {
    "name": "ipython",
    "version": 3
   },
   "file_extension": ".py",
   "mimetype": "text/x-python",
   "name": "python",
   "nbconvert_exporter": "python",
   "pygments_lexer": "ipython3",
   "version": "3.9.7"
  }
 },
 "nbformat": 4,
 "nbformat_minor": 5
}
