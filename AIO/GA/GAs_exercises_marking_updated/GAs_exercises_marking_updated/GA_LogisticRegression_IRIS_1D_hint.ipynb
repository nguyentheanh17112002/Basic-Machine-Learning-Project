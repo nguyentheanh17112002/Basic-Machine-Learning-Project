{
 "cells": [
  {
   "cell_type": "markdown",
   "metadata": {
    "id": "NsfAv_lmgUfi"
   },
   "source": [
    "# Cài đặt thuật toán"
   ]
  },
  {
   "cell_type": "markdown",
   "metadata": {
    "id": "48fOWw5EgUfj"
   },
   "source": [
    "## Import các libraries cần thiết và load data"
   ]
  },
  {
   "cell_type": "code",
   "execution_count": 1,
   "metadata": {
    "id": "tTUGLjWRgUfj"
   },
   "outputs": [],
   "source": [
    "import numpy as np\n",
    "import matplotlib.pyplot as plt\n",
    "import random\n",
    "random.seed(0) # please do not remove this line\n",
    "\n",
    "iris = np.genfromtxt('iris_1D.csv', dtype=None, delimiter=',', skip_header=1) \n",
    "X_data = iris[:, :1]\n",
    "y_data = iris[:, 1]"
   ]
  },
  {
   "cell_type": "code",
   "execution_count": 2,
   "metadata": {
    "id": "u9IEoC7QgUfk",
    "outputId": "7519e21e-896b-42cd-e926-05fe4b1ac16d"
   },
   "outputs": [
    {
     "data": {
      "image/png": "[encoded data removed]",
      "text/plain": [
       "<Figure size 600x400 with 1 Axes>"
      ]
     },
     "metadata": {},
     "output_type": "display_data"
    }
   ],
   "source": [
    "fig, ax = plt.subplots(figsize=(6, 4))\n",
    "ax.set_ylim((-0.1, 1.1))\n",
    "ax.set_xlim((0, 5))\n",
    "\n",
    "plt.scatter(X_data[:,0], y_data)    \n",
    "plt.show()"
   ]
  },
  {
   "cell_type": "code",
   "execution_count": 3,
   "metadata": {
    "id": "OBAQPlFAgUfl",
    "outputId": "17c727c3-d8a2-40cc-a360-51dd944158f6"
   },
   "outputs": [
    {
     "name": "stdout",
     "output_type": "stream",
     "text": [
      "[[1.  1.4]\n",
      " [1.  1. ]\n",
      " [1.  1.5]\n",
      " [1.  3. ]\n",
      " [1.  3.8]\n",
      " [1.  4.1]] (6, 2)\n",
      "[0. 0. 0. 1. 1. 1.] (6,)\n"
     ]
    }
   ],
   "source": [
    "intercept = np.ones((X_data.shape[0], 1))\n",
    "X_data = np.concatenate((intercept, X_data), axis=1)\n",
    "\n",
    "print(X_data, X_data.shape)\n",
    "print(y_data, y_data.shape)"
   ]
  },
  {
   "cell_type": "markdown",
   "metadata": {
    "id": "pcRFsjougUfm"
   },
   "source": [
    "## Train & Nhận định"
   ]
  },
  {
   "cell_type": "code",
   "execution_count": 4,
   "metadata": {},
   "outputs": [],
   "source": [
    "# parameters\n",
    "n = 2                  # size of individual (chromosome)\n",
    "m = 100                # size of population\n",
    "n_generations = 100    # number of generations\n",
    "\n",
    "# bound [-10, 10]\n",
    "# crossover_rate = 0.9\n",
    "# mutation_rate = 0.05\n",
    "\n",
    "losses = []            # để vẽ biểu đồ quá trình tối ưu\n",
    "thetas = []"
   ]
  },
  {
   "cell_type": "code",
   "execution_count": 4,
   "metadata": {
    "id": "obcPMNt-gUfm"
   },
   "outputs": [],
   "source": [
    "def sigmoid_function(z):\n",
    "    # compute sigmoid\n",
    "    \n",
    "    return \n",
    "\n",
    "def predict(X, theta):    \n",
    "    # compute output\n",
    "    \n",
    "    \n",
    "    return y_hat\n",
    "\n",
    "def loss_function(y_hat, y):\n",
    "    y_hat = np.clip(y_hat, 1e-7, 1 - 1e-7)\n",
    "    return (-y*np.log(y_hat) - (1-y)*np.log(1-y_hat)).mean()\n",
    "\n",
    "def generate_random_value(bound = 20):\n",
    "    return (random.random()-0.5)*bound\n",
    "\n",
    "def compute_loss(individual):\n",
    "    # compute ouput\n",
    "    \n",
    "    # compute loss\n",
    "    \n",
    "    return loss\n",
    "\n",
    "def compute_fitness(individual):\n",
    "    loss = compute_loss(individual)\n",
    "    fitness = 1 / (loss + 1)\n",
    "    return fitness\n",
    "\n",
    "def create_individual():\n",
    "    return [generate_random_value() for _ in range(n)]\n",
    "\n",
    "def crossover(individual1, individual2, crossover_rate = 0.9):\n",
    "    individual1_new = individual1.copy()\n",
    "    individual2_new = individual2.copy()\n",
    "    \n",
    "    for i in range(n):\n",
    "        if random.random() < crossover_rate:\n",
    "            individual1_new[i] = individual2[i]\n",
    "            individual2_new[i] = individual1[i]            \n",
    "    \n",
    "    return individual1_new, individual2_new\n",
    "\n",
    "def mutate(individual, mutation_rate = 0.05):\n",
    "    individual_m = individual.copy()\n",
    "    \n",
    "    for i in range(n):\n",
    "        if random.random() < mutation_rate:\n",
    "            individual_m[i] = generate_random_value()\n",
    "        \n",
    "    return individual_m\n",
    "\n",
    "def selection(sorted_old_population):    \n",
    "    index1 = random.randint(0, m-1)\n",
    "    index2 = random.randint(0, m-1)\n",
    "    \n",
    "    while index2 == index1:\n",
    "        index2 = random.randint(0, m-1)\n",
    "            \n",
    "    individual_s = sorted_old_population[index1]\n",
    "    if index2 > index1:\n",
    "        individual_s = sorted_old_population[index2]\n",
    "    \n",
    "    return individual_s "
   ]
  },
  {
   "cell_type": "code",
   "execution_count": null,
   "metadata": {},
   "outputs": [],
   "source": [
    "##### algorithm\n",
    "# create initial population\n",
    "population = [create_individual() for _ in range(m)]\n",
    "\n",
    "#==== loops\n",
    "elitism = 2\n",
    "for i in range(n_generations):\n",
    "    sorted_population = sorted(population, key=compute_fitness)\n",
    "        \n",
    "    if i%1 == 0:\n",
    "        # lưu lại để vẽ tối ưu\n",
    "        losses.append(compute_loss(sorted_population[m-1])) \n",
    "        print(\"Best loss:\", compute_loss(sorted_population[m-1]), sorted_population[m-1])\n",
    "        \n",
    "        # lưu lại để tính predict\n",
    "        thetas.append(sorted_population[m-1])   \n",
    "    \n",
    "    # create new_population\n",
    "    new_population = sorted_population[-elitism:] \n",
    "    \n",
    "    while len(new_population) < m:\n",
    "        # selection\n",
    "        individual_s1 = selection(sorted_population)\n",
    "        individual_s2 = selection(sorted_population) # duplication\n",
    "        \n",
    "        # crossover\n",
    "        individual_c1, individual_c2 = crossover(individual_s1, individual_s2)\n",
    "        \n",
    "        # mutation\n",
    "        individual_m1 = mutate(individual_c1)\n",
    "        individual_m2 = mutate(individual_c2)\n",
    "        \n",
    "        new_population.append(individual_m1)\n",
    "        new_population.append(individual_m2)            \n",
    "            \n",
    "    # update population\n",
    "    population = new_population"
   ]
  },
  {
   "cell_type": "code",
   "execution_count": null,
   "metadata": {},
   "outputs": [],
   "source": []
  },
  {
   "cell_type": "code",
   "execution_count": null,
   "metadata": {},
   "outputs": [],
   "source": []
  },
  {
   "cell_type": "code",
   "execution_count": 7,
   "metadata": {
    "id": "DxuscN9lgUfo",
    "outputId": "0fb5026c-6420-43d9-fd64-e4ec09339f04"
   },
   "outputs": [
    {
     "data": {
      "image/png": "[encoded data removed]",
      "text/plain": [
       "<Figure size 640x480 with 1 Axes>"
      ]
     },
     "metadata": {},
     "output_type": "display_data"
    }
   ],
   "source": [
    "import matplotlib.pyplot as plt\n",
    "\n",
    "plt.plot(losses, c='green')\n",
    "plt.xlabel('Generations')\n",
    "plt.ylabel('losses')\n",
    "plt.show()"
   ]
  },
  {
   "cell_type": "code",
   "execution_count": 8,
   "metadata": {
    "id": "v9cc9nwSgUfp",
    "outputId": "db9bbed3-981d-4c2e-e7b4-38ea9db2bbb2"
   },
   "outputs": [
    {
     "data": {
      "image/png": "[encoded data removed]",
      "text/plain": [
       "<Figure size 600x400 with 1 Axes>"
      ]
     },
     "metadata": {},
     "output_type": "display_data"
    }
   ],
   "source": [
    "# Visualize predict & ground truth value\n",
    "\n",
    "sorted_population = sorted(population, key=compute_fitness)\n",
    "print(sorted_population[-1])\n",
    "theta = np.array(sorted_population[-1])\n",
    "\n",
    "fig, ax = plt.subplots(figsize=(6, 4))\n",
    "ax.set_ylim((-0.1, 1.1))\n",
    "ax.set_xlim((0, 5))\n",
    "\n",
    "# plot data\n",
    "plt.scatter(X_data[:,1], y_data)    \n",
    "\n",
    "# sigmoid\n",
    "x_values = np.arange(0.1, 5, 0.01)  # Tạo dữ liệu để test\n",
    "x_values = x_values.reshape(x_values.shape[0], 1)\n",
    "intercept = np.ones((x_values.shape[0], 1))\n",
    "x_values  = np.concatenate((intercept, x_values), axis=1)\n",
    "y_values  = predict(x_values, theta).round()\n",
    "plt.plot(x_values[:, 1], y_values,c='green')\n",
    "\n",
    "plt.show()"
   ]
  },
  {
   "cell_type": "code",
   "execution_count": null,
   "metadata": {},
   "outputs": [],
   "source": []
  }
 ],
 "metadata": {
  "colab": {
   "provenance": []
  },
  "kernelspec": {
   "display_name": "Python 3 (ipykernel)",
   "language": "python",
   "name": "python3"
  },
  "language_info": {
   "codemirror_mode": {
    "name": "ipython",
    "version": 3
   },
   "file_extension": ".py",
   "mimetype": "text/x-python",
   "name": "python",
   "nbconvert_exporter": "python",
   "pygments_lexer": "ipython3",
   "version": "3.10.6"
  },
  "vscode": {
   "interpreter": {
    "hash": "9bc3bf6bb691733f333e01dcfce30c4108997f38332bc33fef4fedd2eeb40313"
   }
  }
 },
 "nbformat": 4,
 "nbformat_minor": 1
}
