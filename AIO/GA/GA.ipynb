{
 "cells": [
  {
   "cell_type": "code",
   "execution_count": 1,
   "id": "b291e105",
   "metadata": {},
   "outputs": [],
   "source": [
    "import random\n",
    "import numpy as np\n",
    "import pandas as pd\n",
    "import matplotlib.pyplot as plt"
   ]
  },
  {
   "cell_type": "code",
   "execution_count": 2,
   "id": "b0cc3300",
   "metadata": {},
   "outputs": [],
   "source": [
    "data_frame = pd.read_csv(\"advertising.csv\")"
   ]
  },
  {
   "cell_type": "code",
   "execution_count": 3,
   "id": "28815ca2",
   "metadata": {},
   "outputs": [
    {
     "data": {
      "text/html": [
       "<div>\n",
       "<style scoped>\n",
       "    .dataframe tbody tr th:only-of-type {\n",
       "        vertical-align: middle;\n",
       "    }\n",
       "\n",
       "    .dataframe tbody tr th {\n",
       "        vertical-align: top;\n",
       "    }\n",
       "\n",
       "    .dataframe thead th {\n",
       "        text-align: right;\n",
       "    }\n",
       "</style>\n",
       "<table border=\"1\" class=\"dataframe\">\n",
       "  <thead>\n",
       "    <tr style=\"text-align: right;\">\n",
       "      <th></th>\n",
       "      <th>TV</th>\n",
       "      <th>Radio</th>\n",
       "      <th>Newspaper</th>\n",
       "      <th>Sales</th>\n",
       "    </tr>\n",
       "  </thead>\n",
       "  <tbody>\n",
       "    <tr>\n",
       "      <th>0</th>\n",
       "      <td>230.1</td>\n",
       "      <td>37.8</td>\n",
       "      <td>69.2</td>\n",
       "      <td>22.1</td>\n",
       "    </tr>\n",
       "    <tr>\n",
       "      <th>1</th>\n",
       "      <td>44.5</td>\n",
       "      <td>39.3</td>\n",
       "      <td>45.1</td>\n",
       "      <td>10.4</td>\n",
       "    </tr>\n",
       "    <tr>\n",
       "      <th>2</th>\n",
       "      <td>17.2</td>\n",
       "      <td>45.9</td>\n",
       "      <td>69.3</td>\n",
       "      <td>12.0</td>\n",
       "    </tr>\n",
       "    <tr>\n",
       "      <th>3</th>\n",
       "      <td>151.5</td>\n",
       "      <td>41.3</td>\n",
       "      <td>58.5</td>\n",
       "      <td>16.5</td>\n",
       "    </tr>\n",
       "    <tr>\n",
       "      <th>4</th>\n",
       "      <td>180.8</td>\n",
       "      <td>10.8</td>\n",
       "      <td>58.4</td>\n",
       "      <td>17.9</td>\n",
       "    </tr>\n",
       "  </tbody>\n",
       "</table>\n",
       "</div>"
      ],
      "text/plain": [
       "      TV  Radio  Newspaper  Sales\n",
       "0  230.1   37.8       69.2   22.1\n",
       "1   44.5   39.3       45.1   10.4\n",
       "2   17.2   45.9       69.3   12.0\n",
       "3  151.5   41.3       58.5   16.5\n",
       "4  180.8   10.8       58.4   17.9"
      ]
     },
     "execution_count": 3,
     "metadata": {},
     "output_type": "execute_result"
    }
   ],
   "source": [
    "data_frame.head()"
   ]
  },
  {
   "cell_type": "code",
   "execution_count": 4,
   "id": "cb058331",
   "metadata": {},
   "outputs": [
    {
     "data": {
      "text/html": [
       "<div>\n",
       "<style scoped>\n",
       "    .dataframe tbody tr th:only-of-type {\n",
       "        vertical-align: middle;\n",
       "    }\n",
       "\n",
       "    .dataframe tbody tr th {\n",
       "        vertical-align: top;\n",
       "    }\n",
       "\n",
       "    .dataframe thead th {\n",
       "        text-align: right;\n",
       "    }\n",
       "</style>\n",
       "<table border=\"1\" class=\"dataframe\">\n",
       "  <thead>\n",
       "    <tr style=\"text-align: right;\">\n",
       "      <th></th>\n",
       "      <th>TV</th>\n",
       "      <th>Radio</th>\n",
       "      <th>Newspaper</th>\n",
       "      <th>Sales</th>\n",
       "    </tr>\n",
       "  </thead>\n",
       "  <tbody>\n",
       "    <tr>\n",
       "      <th>count</th>\n",
       "      <td>200.000000</td>\n",
       "      <td>200.000000</td>\n",
       "      <td>200.000000</td>\n",
       "      <td>200.000000</td>\n",
       "    </tr>\n",
       "    <tr>\n",
       "      <th>mean</th>\n",
       "      <td>147.042500</td>\n",
       "      <td>23.264000</td>\n",
       "      <td>30.554000</td>\n",
       "      <td>15.130500</td>\n",
       "    </tr>\n",
       "    <tr>\n",
       "      <th>std</th>\n",
       "      <td>85.854236</td>\n",
       "      <td>14.846809</td>\n",
       "      <td>21.778621</td>\n",
       "      <td>5.283892</td>\n",
       "    </tr>\n",
       "    <tr>\n",
       "      <th>min</th>\n",
       "      <td>0.700000</td>\n",
       "      <td>0.000000</td>\n",
       "      <td>0.300000</td>\n",
       "      <td>1.600000</td>\n",
       "    </tr>\n",
       "    <tr>\n",
       "      <th>25%</th>\n",
       "      <td>74.375000</td>\n",
       "      <td>9.975000</td>\n",
       "      <td>12.750000</td>\n",
       "      <td>11.000000</td>\n",
       "    </tr>\n",
       "    <tr>\n",
       "      <th>50%</th>\n",
       "      <td>149.750000</td>\n",
       "      <td>22.900000</td>\n",
       "      <td>25.750000</td>\n",
       "      <td>16.000000</td>\n",
       "    </tr>\n",
       "    <tr>\n",
       "      <th>75%</th>\n",
       "      <td>218.825000</td>\n",
       "      <td>36.525000</td>\n",
       "      <td>45.100000</td>\n",
       "      <td>19.050000</td>\n",
       "    </tr>\n",
       "    <tr>\n",
       "      <th>max</th>\n",
       "      <td>296.400000</td>\n",
       "      <td>49.600000</td>\n",
       "      <td>114.000000</td>\n",
       "      <td>27.000000</td>\n",
       "    </tr>\n",
       "  </tbody>\n",
       "</table>\n",
       "</div>"
      ],
      "text/plain": [
       "               TV       Radio   Newspaper       Sales\n",
       "count  200.000000  200.000000  200.000000  200.000000\n",
       "mean   147.042500   23.264000   30.554000   15.130500\n",
       "std     85.854236   14.846809   21.778621    5.283892\n",
       "min      0.700000    0.000000    0.300000    1.600000\n",
       "25%     74.375000    9.975000   12.750000   11.000000\n",
       "50%    149.750000   22.900000   25.750000   16.000000\n",
       "75%    218.825000   36.525000   45.100000   19.050000\n",
       "max    296.400000   49.600000  114.000000   27.000000"
      ]
     },
     "execution_count": 4,
     "metadata": {},
     "output_type": "execute_result"
    }
   ],
   "source": [
    "data_frame.describe()"
   ]
  },
  {
   "cell_type": "code",
   "execution_count": 5,
   "id": "0252e7b7",
   "metadata": {},
   "outputs": [
    {
     "name": "stdout",
     "output_type": "stream",
     "text": [
      "<class 'pandas.core.frame.DataFrame'>\n",
      "RangeIndex: 200 entries, 0 to 199\n",
      "Data columns (total 4 columns):\n",
      " #   Column     Non-Null Count  Dtype  \n",
      "---  ------     --------------  -----  \n",
      " 0   TV         200 non-null    float64\n",
      " 1   Radio      200 non-null    float64\n",
      " 2   Newspaper  200 non-null    float64\n",
      " 3   Sales      200 non-null    float64\n",
      "dtypes: float64(4)\n",
      "memory usage: 6.4 KB\n"
     ]
    }
   ],
   "source": [
    "data_frame.info()"
   ]
  },
  {
   "cell_type": "code",
   "execution_count": 6,
   "id": "3fafea63",
   "metadata": {},
   "outputs": [],
   "source": [
    "X = data_frame.iloc[:,:3].values"
   ]
  },
  {
   "cell_type": "code",
   "execution_count": 7,
   "id": "cda3191e",
   "metadata": {},
   "outputs": [
    {
     "data": {
      "text/plain": [
       "(200, 3)"
      ]
     },
     "execution_count": 7,
     "metadata": {},
     "output_type": "execute_result"
    }
   ],
   "source": [
    "X.shape"
   ]
  },
  {
   "cell_type": "code",
   "execution_count": 8,
   "id": "1e1ef409",
   "metadata": {},
   "outputs": [],
   "source": [
    "y = data_frame.iloc[:,-1:].values\n"
   ]
  },
  {
   "cell_type": "code",
   "execution_count": 9,
   "id": "d9004c56",
   "metadata": {},
   "outputs": [],
   "source": [
    "temp = np.ones((200,1))"
   ]
  },
  {
   "cell_type": "code",
   "execution_count": 10,
   "id": "9c048f53",
   "metadata": {},
   "outputs": [],
   "source": [
    "X = np.concatenate((X, temp), axis = 1)"
   ]
  },
  {
   "cell_type": "markdown",
   "id": "d4a5e051",
   "metadata": {},
   "source": [
    "# Solving Problem"
   ]
  },
  {
   "cell_type": "code",
   "execution_count": 11,
   "id": "64b2f021",
   "metadata": {},
   "outputs": [],
   "source": [
    "def create_random_value(bound = 10):\n",
    "    return (random.random() - 0.5)*bound"
   ]
  },
  {
   "cell_type": "code",
   "execution_count": 12,
   "id": "855651e4",
   "metadata": {},
   "outputs": [],
   "source": [
    "n = 4                  # size of individual (chromosome); 3 coefficients and 1 bias\n",
    "m = 600                # size of population\n",
    "n_generations = 100   # number of generations\n",
    "losses = []            # để vẽ biểu đồ quá trình tối ưu\n",
    "individuals = []       # chứa các tham số trong quá trình training (theta)"
   ]
  },
  {
   "cell_type": "code",
   "execution_count": 13,
   "id": "77cfb7a0",
   "metadata": {},
   "outputs": [],
   "source": [
    "def compute_loss(individual):\n",
    "    theta = np.array(individual)\n",
    "    y_hat = np.dot(X,individual)\n",
    "    return np.multiply(y - y_hat , y - y_hat).mean()"
   ]
  },
  {
   "cell_type": "code",
   "execution_count": 14,
   "id": "81e8dba4",
   "metadata": {},
   "outputs": [],
   "source": [
    "def compute_fitness(individual):\n",
    "    loss = compute_loss(individual)\n",
    "    return 1/(loss + 0.00001)"
   ]
  },
  {
   "cell_type": "code",
   "execution_count": 15,
   "id": "b31b3040",
   "metadata": {},
   "outputs": [],
   "source": [
    "def create_individual():\n",
    "    return [create_random_value() for _ in range(n)]"
   ]
  },
  {
   "cell_type": "code",
   "execution_count": 16,
   "id": "72581a9e",
   "metadata": {},
   "outputs": [],
   "source": [
    "def crossover(individual1 , individual2, cr = 0.9):\n",
    "    individual_1 = individual1.copy()\n",
    "    individual_2 = individual2.copy()\n",
    "    for i in range(n):\n",
    "        if(random.random() < cr):\n",
    "            individual_1[i] , individual_2[i] = individual2[i], individual1[i] \n",
    "    return individual_1, individual_2"
   ]
  },
  {
   "cell_type": "code",
   "execution_count": 17,
   "id": "659008ad",
   "metadata": {},
   "outputs": [],
   "source": [
    "def mutate(individual , mr = 0.05):\n",
    "    individual_new = individual.copy()\n",
    "    for i in range(n):\n",
    "        if(random.random() < mr):\n",
    "            individual_new[i] = create_random_value()\n",
    "    return individual_new"
   ]
  },
  {
   "cell_type": "code",
   "execution_count": 18,
   "id": "0d1a6468",
   "metadata": {},
   "outputs": [],
   "source": [
    "def selection(sorted_population):\n",
    "    ind1 = random.randint(0 , m -1)\n",
    "    while True:\n",
    "        ind2 = random.randint(0 , m-1)\n",
    "        if(ind1 != ind2):\n",
    "            break\n",
    "                \n",
    "    individual_s = sorted_population[ind1]\n",
    "    if ind2 > ind1:\n",
    "        individual_s = sorted_population[ind2]\n",
    "    \n",
    "    return individual_s "
   ]
  },
  {
   "cell_type": "code",
   "execution_count": 19,
   "id": "18f65cca",
   "metadata": {},
   "outputs": [],
   "source": [
    "def create_new_population(old_population, elitism = 2, gen = 1):\n",
    "    sorted_population = sorted(old_population , key = compute_fitness)\n",
    "    \n",
    "    if (gen % 1 ==0):\n",
    "        losses.append(compute_loss(sorted_population[m - 1]))\n",
    "        print(f\"Best lost: {compute_loss(sorted_population[m-1])} - Individual: {sorted_population[m-1]}\")\n",
    "    new_population = []\n",
    "    while(len(new_population) < m - elitism):\n",
    "        individual1 = selection(sorted_population)\n",
    "        individual2 = selection(sorted_population)\n",
    "        \n",
    "        individual1_cr , individual2_cr = crossover(individual1 , individual2)\n",
    "        \n",
    "        individual1_m = mutate(individual1_cr)\n",
    "        individual2_m = mutate(individual2_cr)\n",
    "        \n",
    "        new_population.append(individual1_m)\n",
    "        new_population.append(individual2_m)\n",
    "    \n",
    "    for ind in sorted_population[m-elitism:]:\n",
    "        new_population.append(ind.copy())\n",
    "    return new_population"
   ]
  },
  {
   "cell_type": "code",
   "execution_count": 20,
   "id": "0a35e5be",
   "metadata": {},
   "outputs": [
    {
     "name": "stdout",
     "output_type": "stream",
     "text": [
      "Best lost: 1155.3427823697848 - Individual: [-0.1278502156498318, 2.181494214339623, -0.31362766108001594, 2.9465817359348234]\n",
      "Best lost: 457.07700125917995 - Individual: [0.20518963457107797, -0.14529483204740457, -0.4458063024843384, -3.5854375053374863]\n",
      "Best lost: 457.07700125917995 - Individual: [0.20518963457107797, -0.14529483204740457, -0.4458063024843384, -3.5854375053374863]\n",
      "Best lost: 457.07700125917995 - Individual: [0.20518963457107797, -0.14529483204740457, -0.4458063024843384, -3.5854375053374863]\n",
      "Best lost: 376.6974830649244 - Individual: [0.07294076073813716, -0.9441781683362915, 0.7600196918803215, 4.927267965900073]\n",
      "Best lost: 61.29459593983881 - Individual: [0.040274177967530855, -0.10993949028392125, 0.08738510074288275, 4.921619465568284]\n",
      "Best lost: 61.29459593983881 - Individual: [0.040274177967530855, -0.10993949028392125, 0.08738510074288275, 4.921619465568284]\n",
      "Best lost: 61.29459593983881 - Individual: [0.040274177967530855, -0.10993949028392125, 0.08738510074288275, 4.921619465568284]\n",
      "Best lost: 61.29459593983881 - Individual: [0.040274177967530855, -0.10993949028392125, 0.08738510074288275, 4.921619465568284]\n",
      "Best lost: 61.29459593983881 - Individual: [0.040274177967530855, -0.10993949028392125, 0.08738510074288275, 4.921619465568284]\n",
      "Best lost: 61.29459593983881 - Individual: [0.040274177967530855, -0.10993949028392125, 0.08738510074288275, 4.921619465568284]\n",
      "Best lost: 61.29459593983881 - Individual: [0.040274177967530855, -0.10993949028392125, 0.08738510074288275, 4.921619465568284]\n",
      "Best lost: 57.75923988213823 - Individual: [0.040274177967530855, 0.12609633677262644, 0.08738510074288275, 0.9528973597146995]\n",
      "Best lost: 50.72896113621764 - Individual: [0.040274177967530855, 0.12609633677262644, 0.08738510074288275, 3.663728517344338]\n",
      "Best lost: 50.72896113621764 - Individual: [0.040274177967530855, 0.12609633677262644, 0.08738510074288275, 3.663728517344338]\n",
      "Best lost: 50.72896113621764 - Individual: [0.040274177967530855, 0.12609633677262644, 0.08738510074288275, 3.663728517344338]\n",
      "Best lost: 48.51024957100719 - Individual: [0.022296645380958102, 0.12609633677262644, 0.08738510074288275, 3.663728517344338]\n",
      "Best lost: 48.25880962034629 - Individual: [0.040274177967530855, -0.02418717537631343, 0.08738510074288275, 4.927267965900073]\n",
      "Best lost: 43.574920754980035 - Individual: [0.022296645380958102, 0.12609633677262644, 0.08738510074288275, 4.927267965900073]\n",
      "Best lost: 43.574920754980035 - Individual: [0.022296645380958102, 0.12609633677262644, 0.08738510074288275, 4.927267965900073]\n",
      "Best lost: 43.574920754980035 - Individual: [0.022296645380958102, 0.12609633677262644, 0.08738510074288275, 4.927267965900073]\n",
      "Best lost: 43.574920754980035 - Individual: [0.022296645380958102, 0.12609633677262644, 0.08738510074288275, 4.927267965900073]\n",
      "Best lost: 43.574920754980035 - Individual: [0.022296645380958102, 0.12609633677262644, 0.08738510074288275, 4.927267965900073]\n",
      "Best lost: 43.574920754980035 - Individual: [0.022296645380958102, 0.12609633677262644, 0.08738510074288275, 4.927267965900073]\n",
      "Best lost: 43.574920754980035 - Individual: [0.022296645380958102, 0.12609633677262644, 0.08738510074288275, 4.927267965900073]\n",
      "Best lost: 43.574920754980035 - Individual: [0.022296645380958102, 0.12609633677262644, 0.08738510074288275, 4.927267965900073]\n",
      "Best lost: 43.574920754980035 - Individual: [0.022296645380958102, 0.12609633677262644, 0.08738510074288275, 4.927267965900073]\n",
      "Best lost: 43.574920754980035 - Individual: [0.022296645380958102, 0.12609633677262644, 0.08738510074288275, 4.927267965900073]\n",
      "Best lost: 43.574920754980035 - Individual: [0.022296645380958102, 0.12609633677262644, 0.08738510074288275, 4.927267965900073]\n",
      "Best lost: 43.574920754980035 - Individual: [0.022296645380958102, 0.12609633677262644, 0.08738510074288275, 4.927267965900073]\n",
      "Best lost: 43.574920754980035 - Individual: [0.022296645380958102, 0.12609633677262644, 0.08738510074288275, 4.927267965900073]\n",
      "Best lost: 43.37769435057724 - Individual: [0.022296645380958102, 0.12609633677262644, 0.07890388777130664, 4.927267965900073]\n",
      "Best lost: 43.37769435057724 - Individual: [0.022296645380958102, 0.12609633677262644, 0.07890388777130664, 4.927267965900073]\n",
      "Best lost: 43.37769435057724 - Individual: [0.022296645380958102, 0.12609633677262644, 0.07890388777130664, 4.927267965900073]\n",
      "Best lost: 43.37769435057724 - Individual: [0.022296645380958102, 0.12609633677262644, 0.07890388777130664, 4.927267965900073]\n",
      "Best lost: 43.37769435057724 - Individual: [0.022296645380958102, 0.12609633677262644, 0.07890388777130664, 4.927267965900073]\n",
      "Best lost: 43.36094819455013 - Individual: [0.022296645380958102, 0.12609633677262644, 0.07890388777130664, 4.932575143603945]\n",
      "Best lost: 43.36094819455013 - Individual: [0.022296645380958102, 0.12609633677262644, 0.07890388777130664, 4.932575143603945]\n",
      "Best lost: 43.36094819455013 - Individual: [0.022296645380958102, 0.12609633677262644, 0.07890388777130664, 4.932575143603945]\n",
      "Best lost: 43.36094819455013 - Individual: [0.022296645380958102, 0.12609633677262644, 0.07890388777130664, 4.932575143603945]\n",
      "Best lost: 43.19665149419225 - Individual: [0.022296645380958102, 0.12609633677262644, 0.07890388777130664, 4.9856250460900124]\n",
      "Best lost: 43.19665149419225 - Individual: [0.022296645380958102, 0.12609633677262644, 0.07890388777130664, 4.9856250460900124]\n",
      "Best lost: 43.19665149419225 - Individual: [0.022296645380958102, 0.12609633677262644, 0.07890388777130664, 4.9856250460900124]\n",
      "Best lost: 43.19665149419225 - Individual: [0.022296645380958102, 0.12609633677262644, 0.07890388777130664, 4.9856250460900124]\n",
      "Best lost: 43.19665149419225 - Individual: [0.022296645380958102, 0.12609633677262644, 0.07890388777130664, 4.9856250460900124]\n",
      "Best lost: 43.19665149419225 - Individual: [0.022296645380958102, 0.12609633677262644, 0.07890388777130664, 4.9856250460900124]\n",
      "Best lost: 43.19665149419225 - Individual: [0.022296645380958102, 0.12609633677262644, 0.07890388777130664, 4.9856250460900124]\n",
      "Best lost: 43.19665149419225 - Individual: [0.022296645380958102, 0.12609633677262644, 0.07890388777130664, 4.9856250460900124]\n",
      "Best lost: 43.19665149419225 - Individual: [0.022296645380958102, 0.12609633677262644, 0.07890388777130664, 4.9856250460900124]\n",
      "Best lost: 43.17745773721003 - Individual: [0.022296645380958102, 0.12609633677262644, 0.07890388777130664, 4.991943659730335]\n",
      "Best lost: 43.17745773721003 - Individual: [0.022296645380958102, 0.12609633677262644, 0.07890388777130664, 4.991943659730335]\n",
      "Best lost: 43.16356896996922 - Individual: [0.022296645380958102, 0.12609633677262644, 0.07890388777130664, 4.996532339335759]\n",
      "Best lost: 43.16356896996922 - Individual: [0.022296645380958102, 0.12609633677262644, 0.07890388777130664, 4.996532339335759]\n",
      "Best lost: 43.16356896996922 - Individual: [0.022296645380958102, 0.12609633677262644, 0.07890388777130664, 4.996532339335759]\n",
      "Best lost: 43.16356896996922 - Individual: [0.022296645380958102, 0.12609633677262644, 0.07890388777130664, 4.996532339335759]\n",
      "Best lost: 43.15894451014221 - Individual: [0.022296645380958102, 0.12609633677262644, 0.07890388777130664, 4.9980632999411725]\n",
      "Best lost: 43.15894451014221 - Individual: [0.022296645380958102, 0.12609633677262644, 0.07890388777130664, 4.9980632999411725]\n",
      "Best lost: 43.15894451014221 - Individual: [0.022296645380958102, 0.12609633677262644, 0.07890388777130664, 4.9980632999411725]\n",
      "Best lost: 43.15894451014221 - Individual: [0.022296645380958102, 0.12609633677262644, 0.07890388777130664, 4.9980632999411725]\n",
      "Best lost: 43.15894451014221 - Individual: [0.022296645380958102, 0.12609633677262644, 0.07890388777130664, 4.9980632999411725]\n",
      "Best lost: 43.15894451014221 - Individual: [0.022296645380958102, 0.12609633677262644, 0.07890388777130664, 4.9980632999411725]\n",
      "Best lost: 43.15894451014221 - Individual: [0.022296645380958102, 0.12609633677262644, 0.07890388777130664, 4.9980632999411725]\n",
      "Best lost: 43.15894451014221 - Individual: [0.022296645380958102, 0.12609633677262644, 0.07890388777130664, 4.9980632999411725]\n",
      "Best lost: 43.15894451014221 - Individual: [0.022296645380958102, 0.12609633677262644, 0.07890388777130664, 4.9980632999411725]\n",
      "Best lost: 43.15894451014221 - Individual: [0.022296645380958102, 0.12609633677262644, 0.07890388777130664, 4.9980632999411725]\n",
      "Best lost: 43.15894451014221 - Individual: [0.022296645380958102, 0.12609633677262644, 0.07890388777130664, 4.9980632999411725]\n",
      "Best lost: 43.15894451014221 - Individual: [0.022296645380958102, 0.12609633677262644, 0.07890388777130664, 4.9980632999411725]\n",
      "Best lost: 43.15894451014221 - Individual: [0.022296645380958102, 0.12609633677262644, 0.07890388777130664, 4.9980632999411725]\n",
      "Best lost: 43.15894451014221 - Individual: [0.022296645380958102, 0.12609633677262644, 0.07890388777130664, 4.9980632999411725]\n"
     ]
    },
    {
     "name": "stdout",
     "output_type": "stream",
     "text": [
      "Best lost: 43.15894451014221 - Individual: [0.022296645380958102, 0.12609633677262644, 0.07890388777130664, 4.9980632999411725]\n",
      "Best lost: 43.15879960571964 - Individual: [0.022296645380958102, 0.12609633677262644, 0.07890388777130664, 4.998111296679033]\n",
      "Best lost: 43.15879960571964 - Individual: [0.022296645380958102, 0.12609633677262644, 0.07890388777130664, 4.998111296679033]\n",
      "Best lost: 43.15879960571964 - Individual: [0.022296645380958102, 0.12609633677262644, 0.07890388777130664, 4.998111296679033]\n",
      "Best lost: 43.15879960571964 - Individual: [0.022296645380958102, 0.12609633677262644, 0.07890388777130664, 4.998111296679033]\n",
      "Best lost: 43.15879960571964 - Individual: [0.022296645380958102, 0.12609633677262644, 0.07890388777130664, 4.998111296679033]\n",
      "Best lost: 43.15879960571964 - Individual: [0.022296645380958102, 0.12609633677262644, 0.07890388777130664, 4.998111296679033]\n",
      "Best lost: 43.15879960571964 - Individual: [0.022296645380958102, 0.12609633677262644, 0.07890388777130664, 4.998111296679033]\n",
      "Best lost: 43.15879960571964 - Individual: [0.022296645380958102, 0.12609633677262644, 0.07890388777130664, 4.998111296679033]\n",
      "Best lost: 43.15879960571964 - Individual: [0.022296645380958102, 0.12609633677262644, 0.07890388777130664, 4.998111296679033]\n",
      "Best lost: 43.15879960571964 - Individual: [0.022296645380958102, 0.12609633677262644, 0.07890388777130664, 4.998111296679033]\n",
      "Best lost: 43.15879960571964 - Individual: [0.022296645380958102, 0.12609633677262644, 0.07890388777130664, 4.998111296679033]\n",
      "Best lost: 43.15879960571964 - Individual: [0.022296645380958102, 0.12609633677262644, 0.07890388777130664, 4.998111296679033]\n",
      "Best lost: 43.15879960571964 - Individual: [0.022296645380958102, 0.12609633677262644, 0.07890388777130664, 4.998111296679033]\n",
      "Best lost: 43.15879960571964 - Individual: [0.022296645380958102, 0.12609633677262644, 0.07890388777130664, 4.998111296679033]\n",
      "Best lost: 43.15879960571964 - Individual: [0.022296645380958102, 0.12609633677262644, 0.07890388777130664, 4.998111296679033]\n",
      "Best lost: 43.14687281668037 - Individual: [0.022296645380958102, 0.12121304208690842, 0.07890388777130664, 4.998111296679033]\n",
      "Best lost: 43.14687281668037 - Individual: [0.022296645380958102, 0.12121304208690842, 0.07890388777130664, 4.998111296679033]\n",
      "Best lost: 43.14687281668037 - Individual: [0.022296645380958102, 0.12121304208690842, 0.07890388777130664, 4.998111296679033]\n",
      "Best lost: 43.14687281668037 - Individual: [0.022296645380958102, 0.12121304208690842, 0.07890388777130664, 4.998111296679033]\n",
      "Best lost: 43.14687281668037 - Individual: [0.022296645380958102, 0.12121304208690842, 0.07890388777130664, 4.998111296679033]\n",
      "Best lost: 43.14687281668037 - Individual: [0.022296645380958102, 0.12121304208690842, 0.07890388777130664, 4.998111296679033]\n",
      "Best lost: 43.14687281668037 - Individual: [0.022296645380958102, 0.12121304208690842, 0.07890388777130664, 4.998111296679033]\n",
      "Best lost: 43.14687281668037 - Individual: [0.022296645380958102, 0.12121304208690842, 0.07890388777130664, 4.998111296679033]\n",
      "Best lost: 43.14687281668037 - Individual: [0.022296645380958102, 0.12121304208690842, 0.07890388777130664, 4.998111296679033]\n",
      "Best lost: 43.14687281668037 - Individual: [0.022296645380958102, 0.12121304208690842, 0.07890388777130664, 4.998111296679033]\n",
      "Best lost: 43.14687281668037 - Individual: [0.022296645380958102, 0.12121304208690842, 0.07890388777130664, 4.998111296679033]\n",
      "Best lost: 43.14687281668037 - Individual: [0.022296645380958102, 0.12121304208690842, 0.07890388777130664, 4.998111296679033]\n",
      "Best lost: 43.14687281668037 - Individual: [0.022296645380958102, 0.12121304208690842, 0.07890388777130664, 4.998111296679033]\n",
      "Best lost: 43.14687281668037 - Individual: [0.022296645380958102, 0.12121304208690842, 0.07890388777130664, 4.998111296679033]\n",
      "Best lost: 43.14687281668037 - Individual: [0.022296645380958102, 0.12121304208690842, 0.07890388777130664, 4.998111296679033]\n"
     ]
    }
   ],
   "source": [
    "population = [create_individual() for _ in range(m)]\n",
    "for i in range(n_generations):\n",
    "    population = create_new_population(population, 2, i)"
   ]
  },
  {
   "cell_type": "code",
   "execution_count": 21,
   "id": "4307cd25",
   "metadata": {},
   "outputs": [
    {
     "data": {
      "image/png": "[encoded data removed]",
      "text/plain": [
       "<Figure size 640x480 with 1 Axes>"
      ]
     },
     "metadata": {},
     "output_type": "display_data"
    }
   ],
   "source": [
    "plt.plot(losses, c = \"red\")\n",
    "plt.xlabel(\"Gen\")\n",
    "plt.ylabel(\"Loss\")\n",
    "plt.show()"
   ]
  },
  {
   "cell_type": "code",
   "execution_count": null,
   "id": "a11ade3e",
   "metadata": {},
   "outputs": [],
   "source": []
  }
 ],
 "metadata": {
  "kernelspec": {
   "display_name": "Python 3 (ipykernel)",
   "language": "python",
   "name": "python3"
  },
  "language_info": {
   "codemirror_mode": {
    "name": "ipython",
    "version": 3
   },
   "file_extension": ".py",
   "mimetype": "text/x-python",
   "name": "python",
   "nbconvert_exporter": "python",
   "pygments_lexer": "ipython3",
   "version": "3.9.7"
  }
 },
 "nbformat": 4,
 "nbformat_minor": 5
}
