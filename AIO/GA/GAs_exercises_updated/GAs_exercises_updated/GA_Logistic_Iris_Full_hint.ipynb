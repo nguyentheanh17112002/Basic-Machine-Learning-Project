{
 "cells": [
  {
   "cell_type": "markdown",
   "metadata": {},
   "source": [
    "# Import các libraries cần thiết và load data"
   ]
  },
  {
   "cell_type": "code",
   "execution_count": 69,
   "metadata": {},
   "outputs": [],
   "source": [
    "import numpy as np\n",
    "import matplotlib.pyplot as plt\n",
    "import math\n",
    "import random\n",
    "random.seed(0) # please do not remove this line\n",
    "\n",
    "iris = np.genfromtxt('iris_full.csv', \n",
    "                     dtype=None, \n",
    "                     delimiter=',', \n",
    "                     skip_header=1) \n",
    "X_data = iris[:, :4]\n",
    "y_data = iris[:, 4]"
   ]
  },
  {
   "cell_type": "code",
   "execution_count": 70,
   "metadata": {},
   "outputs": [
    {
     "name": "stdout",
     "output_type": "stream",
     "text": [
      "(100, 5)\n",
      "[0. 0. 0. 0. 0. 0. 0. 0. 0. 0. 0. 0. 0. 0. 0. 0. 0. 0. 0. 0. 0. 0. 0. 0.\n",
      " 0. 0. 0. 0. 0. 0. 0. 0. 0. 0. 0. 0. 0. 0. 0. 0. 0. 0. 0. 0. 0. 0. 0. 0.\n",
      " 0. 0. 1. 1. 1. 1. 1. 1. 1. 1. 1. 1. 1. 1. 1. 1. 1. 1. 1. 1. 1. 1. 1. 1.\n",
      " 1. 1. 1. 1. 1. 1. 1. 1. 1. 1. 1. 1. 1. 1. 1. 1. 1. 1. 1. 1. 1. 1. 1. 1.\n",
      " 1. 1. 1. 1.]\n"
     ]
    }
   ],
   "source": [
    "intercept = np.ones((X_data.shape[0], 1))\n",
    "X_data = np.concatenate((intercept, X_data), axis=1)\n",
    "\n",
    "print(X_data.shape)\n",
    "print(y_data)"
   ]
  },
  {
   "cell_type": "markdown",
   "metadata": {},
   "source": [
    "# Huấn luyện và nhận định"
   ]
  },
  {
   "cell_type": "code",
   "execution_count": 71,
   "metadata": {},
   "outputs": [],
   "source": [
    "n = 5                  # size of individual (chromosome)\n",
    "m = 500                # size of population\n",
    "n_generations = 1000   # number of generations\n",
    "losses = []            # để vẽ biểu đồ quá trình tối ưu\n",
    "\n",
    "def sigmoid_function(z):\n",
    "    # compute sigmoid (your code here)\n",
    "\n",
    "    return \n",
    "\n",
    "def predict(X, theta):    \n",
    "    # compute output (your code here)\n",
    "\n",
    "    return y_hat\n",
    "\n",
    "def loss_function(y_hat, y):\n",
    "    y_hat = np.clip(y_hat, 1e-7, 1 - 1e-7)\n",
    "    return (-y*np.log(y_hat) - (1-y)*np.log(1-y_hat)).mean()\n",
    "    \n",
    "def generate_random_value(bound = 20):\n",
    "    return (random.random()-0.5)*bound\n",
    "\n",
    "def compute_loss(individual):\n",
    "    # compute ouput (your code here)\n",
    "    \n",
    "    # compute loss (your code here)\n",
    "    \n",
    "    return loss\n",
    "\n",
    "def compute_fitness(individual):\n",
    "    loss = compute_loss(individual)\n",
    "    fitness = 1 / (loss + 1)\n",
    "    return fitness\n",
    "\n",
    "def create_individual():\n",
    "    return [generate_random_value() for _ in range(n)]\n",
    "\n",
    "def crossover(individual1, individual2, crossover_rate = 0.9):\n",
    "    individual1_new = individual1.copy()\n",
    "    individual2_new = individual2.copy()\n",
    "    \n",
    "    for i in range(n):\n",
    "        if random.random() < crossover_rate:\n",
    "            individual1_new[i] = individual2[i]\n",
    "            individual2_new[i] = individual1[i]            \n",
    "    \n",
    "    return individual1_new, individual2_new\n",
    "\n",
    "def mutate(individual, mutation_rate = 0.05):\n",
    "    individual_m = individual.copy()\n",
    "    \n",
    "    for i in range(n):\n",
    "        if random.random() < mutation_rate:\n",
    "            individual_m[i] = generate_random_value()\n",
    "        \n",
    "    return individual_m\n",
    "\n",
    "def selection(sorted_old_population):    \n",
    "    index1 = random.randint(0, m-1)\n",
    "    index2 = random.randint(0, m-1)\n",
    "    \n",
    "    while index2 == index1:\n",
    "        index2 = random.randint(0, m-1)\n",
    "            \n",
    "    individual_s = sorted_old_population[index1]\n",
    "    if index2 > index1:\n",
    "        individual_s = sorted_old_population[index2]\n",
    "    \n",
    "    return individual_s"
   ]
  },
  {
   "cell_type": "code",
   "execution_count": null,
   "metadata": {},
   "outputs": [],
   "source": [
    "##### algorithm\n",
    "# step 1: create initial population\n",
    "population = [create_individual() for _ in range(m)]\n",
    "\n",
    "#==== loops\n",
    "elitism = 2\n",
    "for i in range(n_generations):\n",
    "    sorted_population = sorted(population, key=compute_fitness)\n",
    "        \n",
    "    if i%100 == 0:\n",
    "        losses.append(compute_loss(sorted_population[m-1]))\n",
    "        print(\"Best loss:\", compute_loss(sorted_population[m-1]), sorted_population[m-1]) \n",
    "      \n",
    "    # create new_population\n",
    "    new_population = sorted_population[-elitism:] \n",
    "    \n",
    "    while len(new_population) < m:\n",
    "        # selection\n",
    "        individual_s1 = selection(sorted_population)\n",
    "        individual_s2 = selection(sorted_population) # duplication\n",
    "        \n",
    "        # crossover\n",
    "        individual_c1, individual_c2 = crossover(individual_s1, individual_s2)\n",
    "        \n",
    "        # mutation\n",
    "        individual_m1 = mutate(individual_c1)\n",
    "        individual_m2 = mutate(individual_c2)\n",
    "        \n",
    "        new_population.append(individual_m1)\n",
    "        new_population.append(individual_m2)            \n",
    "            \n",
    "    # update population\n",
    "    population = new_population"
   ]
  },
  {
   "cell_type": "code",
   "execution_count": null,
   "metadata": {},
   "outputs": [],
   "source": []
  },
  {
   "cell_type": "code",
   "execution_count": null,
   "metadata": {},
   "outputs": [],
   "source": []
  },
  {
   "cell_type": "code",
   "execution_count": 73,
   "metadata": {},
   "outputs": [
    {
     "data": {
      "image/png": "[encoded data removed]",
      "text/plain": [
       "<Figure size 640x480 with 1 Axes>"
      ]
     },
     "metadata": {},
     "output_type": "display_data"
    }
   ],
   "source": [
    "import matplotlib.pyplot as plt\n",
    "\n",
    "plt.plot(losses, c='green')\n",
    "plt.xlabel('Generations')\n",
    "plt.ylabel('losses')\n",
    "plt.show()"
   ]
  },
  {
   "cell_type": "code",
   "execution_count": 75,
   "metadata": {},
   "outputs": [
    {
     "name": "stdout",
     "output_type": "stream",
     "text": [
      "[0. 0. 0. 0. 0. 0. 0. 0. 0. 0. 0. 0. 0. 0. 0. 0. 0. 0. 0. 0. 0. 0. 0. 0.\n",
      " 0. 0. 0. 0. 0. 0. 0. 0. 0. 0. 0. 0. 0. 0. 0. 0. 0. 0. 0. 0. 0. 0. 0. 0.\n",
      " 0. 0. 1. 1. 1. 1. 1. 1. 1. 1. 1. 1. 1. 1. 1. 1. 1. 1. 1. 1. 1. 1. 1. 1.\n",
      " 1. 1. 1. 1. 1. 1. 1. 1. 1. 1. 1. 1. 1. 1. 1. 1. 1. 1. 1. 1. 1. 1. 1. 1.\n",
      " 1. 1. 1. 1.]\n",
      "[0. 0. 0. 0. 0. 0. 0. 0. 0. 0. 0. 0. 0. 0. 0. 0. 0. 0. 0. 0. 0. 0. 0. 0.\n",
      " 0. 0. 0. 0. 0. 0. 0. 0. 0. 0. 0. 0. 0. 0. 0. 0. 0. 0. 0. 0. 0. 0. 0. 0.\n",
      " 0. 0. 1. 1. 1. 1. 1. 1. 1. 1. 1. 1. 1. 1. 1. 1. 1. 1. 1. 1. 1. 1. 1. 1.\n",
      " 1. 1. 1. 1. 1. 1. 1. 1. 1. 1. 1. 1. 1. 1. 1. 1. 1. 1. 1. 1. 1. 1. 1. 1.\n",
      " 1. 1. 1. 1.]\n"
     ]
    }
   ],
   "source": [
    "print(preds)\n",
    "print(y_data)"
   ]
  }
 ],
 "metadata": {
  "kernelspec": {
   "display_name": "Python 3 (ipykernel)",
   "language": "python",
   "name": "python3"
  },
  "language_info": {
   "codemirror_mode": {
    "name": "ipython",
    "version": 3
   },
   "file_extension": ".py",
   "mimetype": "text/x-python",
   "name": "python",
   "nbconvert_exporter": "python",
   "pygments_lexer": "ipython3",
   "version": "3.10.6"
  },
  "vscode": {
   "interpreter": {
    "hash": "9bc3bf6bb691733f333e01dcfce30c4108997f38332bc33fef4fedd2eeb40313"
   }
  }
 },
 "nbformat": 4,
 "nbformat_minor": 2
}
