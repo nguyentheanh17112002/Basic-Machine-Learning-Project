{
 "cells": [
  {
   "cell_type": "code",
   "execution_count": 1,
   "id": "da29efc4",
   "metadata": {},
   "outputs": [],
   "source": [
    "import random\n",
    "import numpy as np\n",
    "import pandas as pd\n",
    "import matplotlib.pyplot as plt"
   ]
  },
  {
   "cell_type": "code",
   "execution_count": 2,
   "id": "4bf5c28f",
   "metadata": {},
   "outputs": [],
   "source": [
    "data_frame = pd.read_csv(\"iris_full.csv\")"
   ]
  },
  {
   "cell_type": "code",
   "execution_count": 3,
   "id": "67d13b79",
   "metadata": {},
   "outputs": [
    {
     "data": {
      "text/plain": "   Sepal_Length   Sepal_Width   Petal_Length   Petal_Width   Label\n0           5.1           3.5            1.4           0.2     0.0\n1           4.9           3.0            1.4           0.2     0.0\n2           4.7           3.2            1.3           0.2     0.0\n3           4.6           3.1            1.5           0.2     0.0\n4           5.0           3.6            1.4           0.2     0.0",
      "text/html": "<div>\n<style scoped>\n    .dataframe tbody tr th:only-of-type {\n        vertical-align: middle;\n    }\n\n    .dataframe tbody tr th {\n        vertical-align: top;\n    }\n\n    .dataframe thead th {\n        text-align: right;\n    }\n</style>\n<table border=\"1\" class=\"dataframe\">\n  <thead>\n    <tr style=\"text-align: right;\">\n      <th></th>\n      <th>Sepal_Length</th>\n      <th>Sepal_Width</th>\n      <th>Petal_Length</th>\n      <th>Petal_Width</th>\n      <th>Label</th>\n    </tr>\n  </thead>\n  <tbody>\n    <tr>\n      <th>0</th>\n      <td>5.1</td>\n      <td>3.5</td>\n      <td>1.4</td>\n      <td>0.2</td>\n      <td>0.0</td>\n    </tr>\n    <tr>\n      <th>1</th>\n      <td>4.9</td>\n      <td>3.0</td>\n      <td>1.4</td>\n      <td>0.2</td>\n      <td>0.0</td>\n    </tr>\n    <tr>\n      <th>2</th>\n      <td>4.7</td>\n      <td>3.2</td>\n      <td>1.3</td>\n      <td>0.2</td>\n      <td>0.0</td>\n    </tr>\n    <tr>\n      <th>3</th>\n      <td>4.6</td>\n      <td>3.1</td>\n      <td>1.5</td>\n      <td>0.2</td>\n      <td>0.0</td>\n    </tr>\n    <tr>\n      <th>4</th>\n      <td>5.0</td>\n      <td>3.6</td>\n      <td>1.4</td>\n      <td>0.2</td>\n      <td>0.0</td>\n    </tr>\n  </tbody>\n</table>\n</div>"
     },
     "execution_count": 3,
     "metadata": {},
     "output_type": "execute_result"
    }
   ],
   "source": [
    "data_frame.head()"
   ]
  },
  {
   "cell_type": "code",
   "execution_count": 4,
   "id": "2dedb9ed",
   "metadata": {},
   "outputs": [],
   "source": [
    "X = data_frame.iloc[:,:4].values"
   ]
  },
  {
   "cell_type": "code",
   "execution_count": 5,
   "id": "85d48443",
   "metadata": {},
   "outputs": [
    {
     "data": {
      "text/plain": "array([[5.1, 3.5, 1.4, 0.2],\n       [4.9, 3. , 1.4, 0.2],\n       [4.7, 3.2, 1.3, 0.2],\n       [4.6, 3.1, 1.5, 0.2],\n       [5. , 3.6, 1.4, 0.2],\n       [5.4, 3.9, 1.7, 0.4],\n       [4.6, 3.4, 1.4, 0.3],\n       [5. , 3.4, 1.5, 0.2],\n       [4.4, 2.9, 1.4, 0.2],\n       [4.9, 3.1, 1.5, 0.1],\n       [5.4, 3.7, 1.5, 0.2],\n       [4.8, 3.4, 1.6, 0.2],\n       [4.8, 3. , 1.4, 0.1],\n       [4.3, 3. , 1.1, 0.1],\n       [5.8, 4. , 1.2, 0.2],\n       [5.7, 4.4, 1.5, 0.4],\n       [5.4, 3.9, 1.3, 0.4],\n       [5.1, 3.5, 1.4, 0.3],\n       [5.7, 3.8, 1.7, 0.3],\n       [5.1, 3.8, 1.5, 0.3],\n       [5.4, 3.4, 1.7, 0.2],\n       [5.1, 3.7, 1.5, 0.4],\n       [4.6, 3.6, 1. , 0.2],\n       [5.1, 3.3, 1.7, 0.5],\n       [4.8, 3.4, 1.9, 0.2],\n       [5. , 3. , 1.6, 0.2],\n       [5. , 3.4, 1.6, 0.4],\n       [5.2, 3.5, 1.5, 0.2],\n       [5.2, 3.4, 1.4, 0.2],\n       [4.7, 3.2, 1.6, 0.2],\n       [4.8, 3.1, 1.6, 0.2],\n       [5.4, 3.4, 1.5, 0.4],\n       [5.2, 4.1, 1.5, 0.1],\n       [5.5, 4.2, 1.4, 0.2],\n       [4.9, 3.1, 1.5, 0.1],\n       [5. , 3.2, 1.2, 0.2],\n       [5.5, 3.5, 1.3, 0.2],\n       [4.9, 3.1, 1.5, 0.1],\n       [4.4, 3. , 1.3, 0.2],\n       [5.1, 3.4, 1.5, 0.2],\n       [5. , 3.5, 1.3, 0.3],\n       [4.5, 2.3, 1.3, 0.3],\n       [4.4, 3.2, 1.3, 0.2],\n       [5. , 3.5, 1.6, 0.6],\n       [5.1, 3.8, 1.9, 0.4],\n       [4.8, 3. , 1.4, 0.3],\n       [5.1, 3.8, 1.6, 0.2],\n       [4.6, 3.2, 1.4, 0.2],\n       [5.3, 3.7, 1.5, 0.2],\n       [5. , 3.3, 1.4, 0.2],\n       [7. , 3.2, 4.7, 1.4],\n       [6.4, 3.2, 4.5, 1.5],\n       [6.9, 3.1, 4.9, 1.5],\n       [5.5, 2.3, 4. , 1.3],\n       [6.5, 2.8, 4.6, 1.5],\n       [5.7, 2.8, 4.5, 1.3],\n       [6.3, 3.3, 4.7, 1.6],\n       [4.9, 2.4, 3.3, 1. ],\n       [6.6, 2.9, 4.6, 1.3],\n       [5.2, 2.7, 3.9, 1.4],\n       [5. , 2. , 3.5, 1. ],\n       [5.9, 3. , 4.2, 1.5],\n       [6. , 2.2, 4. , 1. ],\n       [6.1, 2.9, 4.7, 1.4],\n       [5.6, 2.9, 3.6, 1.3],\n       [6.7, 3.1, 4.4, 1.4],\n       [5.6, 3. , 4.5, 1.5],\n       [5.8, 2.7, 4.1, 1. ],\n       [6.2, 2.2, 4.5, 1.5],\n       [5.6, 2.5, 3.9, 1.1],\n       [5.9, 3.2, 4.8, 1.8],\n       [6.1, 2.8, 4. , 1.3],\n       [6.3, 2.5, 4.9, 1.5],\n       [6.1, 2.8, 4.7, 1.2],\n       [6.4, 2.9, 4.3, 1.3],\n       [6.6, 3. , 4.4, 1.4],\n       [6.8, 2.8, 4.8, 1.4],\n       [6.7, 3. , 5. , 1.7],\n       [6. , 2.9, 4.5, 1.5],\n       [5.7, 2.6, 3.5, 1. ],\n       [5.5, 2.4, 3.8, 1.1],\n       [5.5, 2.4, 3.7, 1. ],\n       [5.8, 2.7, 3.9, 1.2],\n       [6. , 2.7, 5.1, 1.6],\n       [5.4, 3. , 4.5, 1.5],\n       [6. , 3.4, 4.5, 1.6],\n       [6.7, 3.1, 4.7, 1.5],\n       [6.3, 2.3, 4.4, 1.3],\n       [5.6, 3. , 4.1, 1.3],\n       [5.5, 2.5, 4. , 1.3],\n       [5.5, 2.6, 4.4, 1.2],\n       [6.1, 3. , 4.6, 1.4],\n       [5.8, 2.6, 4. , 1.2],\n       [5. , 2.3, 3.3, 1. ],\n       [5.6, 2.7, 4.2, 1.3],\n       [5.7, 3. , 4.2, 1.2],\n       [5.7, 2.9, 4.2, 1.3],\n       [6.2, 2.9, 4.3, 1.3],\n       [5.1, 2.5, 3. , 1.1],\n       [5.7, 2.8, 4.1, 1.3]])"
     },
     "execution_count": 5,
     "metadata": {},
     "output_type": "execute_result"
    }
   ],
   "source": [
    "X"
   ]
  },
  {
   "cell_type": "code",
   "execution_count": 6,
   "id": "a748a12a",
   "metadata": {},
   "outputs": [],
   "source": [
    "y = data_frame.iloc[:, -1].values"
   ]
  },
  {
   "cell_type": "code",
   "execution_count": 7,
   "id": "8363ddb0",
   "metadata": {},
   "outputs": [
    {
     "data": {
      "text/plain": "array([0., 0., 0., 0., 0., 0., 0., 0., 0., 0., 0., 0., 0., 0., 0., 0., 0.,\n       0., 0., 0., 0., 0., 0., 0., 0., 0., 0., 0., 0., 0., 0., 0., 0., 0.,\n       0., 0., 0., 0., 0., 0., 0., 0., 0., 0., 0., 0., 0., 0., 0., 0., 1.,\n       1., 1., 1., 1., 1., 1., 1., 1., 1., 1., 1., 1., 1., 1., 1., 1., 1.,\n       1., 1., 1., 1., 1., 1., 1., 1., 1., 1., 1., 1., 1., 1., 1., 1., 1.,\n       1., 1., 1., 1., 1., 1., 1., 1., 1., 1., 1., 1., 1., 1., 1.])"
     },
     "execution_count": 7,
     "metadata": {},
     "output_type": "execute_result"
    }
   ],
   "source": [
    "y"
   ]
  },
  {
   "cell_type": "code",
   "execution_count": 8,
   "id": "69f09adf",
   "metadata": {},
   "outputs": [
    {
     "data": {
      "text/plain": "(100,)"
     },
     "execution_count": 8,
     "metadata": {},
     "output_type": "execute_result"
    }
   ],
   "source": [
    "y.shape"
   ]
  },
  {
   "cell_type": "code",
   "execution_count": 9,
   "id": "7c2afd2b",
   "metadata": {},
   "outputs": [
    {
     "data": {
      "text/plain": "(100, 4)"
     },
     "execution_count": 9,
     "metadata": {},
     "output_type": "execute_result"
    }
   ],
   "source": [
    "X.shape"
   ]
  },
  {
   "cell_type": "code",
   "execution_count": 10,
   "id": "eceae056",
   "metadata": {},
   "outputs": [],
   "source": [
    "temp = np.ones((100,1))"
   ]
  },
  {
   "cell_type": "code",
   "execution_count": 11,
   "id": "195d7ab6",
   "metadata": {},
   "outputs": [],
   "source": [
    "X = np.concatenate((X, temp) , axis = 1)"
   ]
  },
  {
   "cell_type": "code",
   "execution_count": 12,
   "id": "b63fad08",
   "metadata": {},
   "outputs": [
    {
     "data": {
      "text/plain": "array([[5.1, 3.5, 1.4, 0.2, 1. ],\n       [4.9, 3. , 1.4, 0.2, 1. ],\n       [4.7, 3.2, 1.3, 0.2, 1. ],\n       [4.6, 3.1, 1.5, 0.2, 1. ],\n       [5. , 3.6, 1.4, 0.2, 1. ],\n       [5.4, 3.9, 1.7, 0.4, 1. ],\n       [4.6, 3.4, 1.4, 0.3, 1. ],\n       [5. , 3.4, 1.5, 0.2, 1. ],\n       [4.4, 2.9, 1.4, 0.2, 1. ],\n       [4.9, 3.1, 1.5, 0.1, 1. ],\n       [5.4, 3.7, 1.5, 0.2, 1. ],\n       [4.8, 3.4, 1.6, 0.2, 1. ],\n       [4.8, 3. , 1.4, 0.1, 1. ],\n       [4.3, 3. , 1.1, 0.1, 1. ],\n       [5.8, 4. , 1.2, 0.2, 1. ],\n       [5.7, 4.4, 1.5, 0.4, 1. ],\n       [5.4, 3.9, 1.3, 0.4, 1. ],\n       [5.1, 3.5, 1.4, 0.3, 1. ],\n       [5.7, 3.8, 1.7, 0.3, 1. ],\n       [5.1, 3.8, 1.5, 0.3, 1. ],\n       [5.4, 3.4, 1.7, 0.2, 1. ],\n       [5.1, 3.7, 1.5, 0.4, 1. ],\n       [4.6, 3.6, 1. , 0.2, 1. ],\n       [5.1, 3.3, 1.7, 0.5, 1. ],\n       [4.8, 3.4, 1.9, 0.2, 1. ],\n       [5. , 3. , 1.6, 0.2, 1. ],\n       [5. , 3.4, 1.6, 0.4, 1. ],\n       [5.2, 3.5, 1.5, 0.2, 1. ],\n       [5.2, 3.4, 1.4, 0.2, 1. ],\n       [4.7, 3.2, 1.6, 0.2, 1. ],\n       [4.8, 3.1, 1.6, 0.2, 1. ],\n       [5.4, 3.4, 1.5, 0.4, 1. ],\n       [5.2, 4.1, 1.5, 0.1, 1. ],\n       [5.5, 4.2, 1.4, 0.2, 1. ],\n       [4.9, 3.1, 1.5, 0.1, 1. ],\n       [5. , 3.2, 1.2, 0.2, 1. ],\n       [5.5, 3.5, 1.3, 0.2, 1. ],\n       [4.9, 3.1, 1.5, 0.1, 1. ],\n       [4.4, 3. , 1.3, 0.2, 1. ],\n       [5.1, 3.4, 1.5, 0.2, 1. ],\n       [5. , 3.5, 1.3, 0.3, 1. ],\n       [4.5, 2.3, 1.3, 0.3, 1. ],\n       [4.4, 3.2, 1.3, 0.2, 1. ],\n       [5. , 3.5, 1.6, 0.6, 1. ],\n       [5.1, 3.8, 1.9, 0.4, 1. ],\n       [4.8, 3. , 1.4, 0.3, 1. ],\n       [5.1, 3.8, 1.6, 0.2, 1. ],\n       [4.6, 3.2, 1.4, 0.2, 1. ],\n       [5.3, 3.7, 1.5, 0.2, 1. ],\n       [5. , 3.3, 1.4, 0.2, 1. ],\n       [7. , 3.2, 4.7, 1.4, 1. ],\n       [6.4, 3.2, 4.5, 1.5, 1. ],\n       [6.9, 3.1, 4.9, 1.5, 1. ],\n       [5.5, 2.3, 4. , 1.3, 1. ],\n       [6.5, 2.8, 4.6, 1.5, 1. ],\n       [5.7, 2.8, 4.5, 1.3, 1. ],\n       [6.3, 3.3, 4.7, 1.6, 1. ],\n       [4.9, 2.4, 3.3, 1. , 1. ],\n       [6.6, 2.9, 4.6, 1.3, 1. ],\n       [5.2, 2.7, 3.9, 1.4, 1. ],\n       [5. , 2. , 3.5, 1. , 1. ],\n       [5.9, 3. , 4.2, 1.5, 1. ],\n       [6. , 2.2, 4. , 1. , 1. ],\n       [6.1, 2.9, 4.7, 1.4, 1. ],\n       [5.6, 2.9, 3.6, 1.3, 1. ],\n       [6.7, 3.1, 4.4, 1.4, 1. ],\n       [5.6, 3. , 4.5, 1.5, 1. ],\n       [5.8, 2.7, 4.1, 1. , 1. ],\n       [6.2, 2.2, 4.5, 1.5, 1. ],\n       [5.6, 2.5, 3.9, 1.1, 1. ],\n       [5.9, 3.2, 4.8, 1.8, 1. ],\n       [6.1, 2.8, 4. , 1.3, 1. ],\n       [6.3, 2.5, 4.9, 1.5, 1. ],\n       [6.1, 2.8, 4.7, 1.2, 1. ],\n       [6.4, 2.9, 4.3, 1.3, 1. ],\n       [6.6, 3. , 4.4, 1.4, 1. ],\n       [6.8, 2.8, 4.8, 1.4, 1. ],\n       [6.7, 3. , 5. , 1.7, 1. ],\n       [6. , 2.9, 4.5, 1.5, 1. ],\n       [5.7, 2.6, 3.5, 1. , 1. ],\n       [5.5, 2.4, 3.8, 1.1, 1. ],\n       [5.5, 2.4, 3.7, 1. , 1. ],\n       [5.8, 2.7, 3.9, 1.2, 1. ],\n       [6. , 2.7, 5.1, 1.6, 1. ],\n       [5.4, 3. , 4.5, 1.5, 1. ],\n       [6. , 3.4, 4.5, 1.6, 1. ],\n       [6.7, 3.1, 4.7, 1.5, 1. ],\n       [6.3, 2.3, 4.4, 1.3, 1. ],\n       [5.6, 3. , 4.1, 1.3, 1. ],\n       [5.5, 2.5, 4. , 1.3, 1. ],\n       [5.5, 2.6, 4.4, 1.2, 1. ],\n       [6.1, 3. , 4.6, 1.4, 1. ],\n       [5.8, 2.6, 4. , 1.2, 1. ],\n       [5. , 2.3, 3.3, 1. , 1. ],\n       [5.6, 2.7, 4.2, 1.3, 1. ],\n       [5.7, 3. , 4.2, 1.2, 1. ],\n       [5.7, 2.9, 4.2, 1.3, 1. ],\n       [6.2, 2.9, 4.3, 1.3, 1. ],\n       [5.1, 2.5, 3. , 1.1, 1. ],\n       [5.7, 2.8, 4.1, 1.3, 1. ]])"
     },
     "execution_count": 12,
     "metadata": {},
     "output_type": "execute_result"
    }
   ],
   "source": [
    "X"
   ]
  },
  {
   "cell_type": "markdown",
   "id": "6617d63d",
   "metadata": {},
   "source": [
    "# Solving"
   ]
  },
  {
   "cell_type": "code",
   "execution_count": 13,
   "id": "d21e1daa",
   "metadata": {},
   "outputs": [],
   "source": [
    "n = 5\n",
    "m = 500\n",
    "losses = []\n",
    "n_generation = 100"
   ]
  },
  {
   "cell_type": "code",
   "execution_count": 14,
   "id": "a26b97d4",
   "metadata": {},
   "outputs": [],
   "source": [
    "def sigmoid(z):\n",
    "    return 1/(1 + np.exp(-z))"
   ]
  },
  {
   "cell_type": "code",
   "execution_count": 15,
   "id": "94a482c2",
   "metadata": {},
   "outputs": [],
   "source": [
    "def predict(X , theta):\n",
    "    Z = np.dot(X, theta)\n",
    "    return sigmoid(Z)"
   ]
  },
  {
   "cell_type": "code",
   "execution_count": 16,
   "id": "c1f4f4e0",
   "metadata": {},
   "outputs": [],
   "source": [
    "def compute_loss(individual):\n",
    "    theta = np.array(individual)\n",
    "    y_hat = predict(X, theta)\n",
    "    y_hat = np.clip(y_hat , 1e-7 , 1 - 1e-7)\n",
    "    return (-y*np.log(y_hat) - (1 - y)*np.log(1 - y_hat)).mean()"
   ]
  },
  {
   "cell_type": "code",
   "execution_count": 17,
   "id": "1f76db6d",
   "metadata": {},
   "outputs": [],
   "source": [
    "def compute_fitness(individual):\n",
    "    return 1/(compute_loss(individual)+1)"
   ]
  },
  {
   "cell_type": "code",
   "execution_count": 18,
   "id": "0beedd0c",
   "metadata": {},
   "outputs": [],
   "source": [
    "def create_random_value(bound = 20):\n",
    "    return (random.random() - 0.5)*bound"
   ]
  },
  {
   "cell_type": "code",
   "execution_count": 19,
   "id": "20e305c2",
   "metadata": {},
   "outputs": [],
   "source": [
    "def create_individual():\n",
    "    return [create_random_value() for _ in range(n)]"
   ]
  },
  {
   "cell_type": "code",
   "execution_count": 20,
   "id": "51c45a77",
   "metadata": {},
   "outputs": [],
   "source": [
    "def crossover(individual1, individual2 , cr = 0.9):\n",
    "    individual1_cr , individual2_cr = individual1.copy() , individual2.copy()\n",
    "    for i in range(n):\n",
    "        if(random.random() < 0.9):\n",
    "            individual1_cr[i], individual2_cr[i] = individual2[i], individual1[i]\n",
    "    return individual1_cr , individual2_cr"
   ]
  },
  {
   "cell_type": "code",
   "execution_count": 21,
   "id": "ef483b89",
   "metadata": {},
   "outputs": [],
   "source": [
    "def mutate(individual , mr = 0.05):\n",
    "    individual_m = individual.copy()\n",
    "    for i in range(n):\n",
    "        if(random.random() < mr):\n",
    "            individual_m[i] = create_random_value()\n",
    "    return individual_m"
   ]
  },
  {
   "cell_type": "code",
   "execution_count": 22,
   "id": "b906dd2d",
   "metadata": {},
   "outputs": [],
   "source": [
    "def selection(sorted_population):\n",
    "    ind1 = random.randint(0, m - 1)\n",
    "    while True:\n",
    "        ind2 = random.randint(0, m - 1)\n",
    "        if(ind2 != ind1):\n",
    "            break\n",
    "    return sorted_population[ind1] if ind1 > ind2 else sorted_population[ind2]"
   ]
  },
  {
   "cell_type": "code",
   "execution_count": 23,
   "id": "ea59e973",
   "metadata": {},
   "outputs": [],
   "source": [
    "def create_new_population(old_population, elitism = 2, gen = 1):\n",
    "    sorted_population = sorted(old_population, key = compute_fitness)\n",
    "    \n",
    "    losses.append(compute_loss(sorted_population[m - 1]))\n",
    "    if(gen % 10 == 0):\n",
    "        print(f\"Best loss: {compute_loss(sorted_population[m - 1])} - Best individual: {sorted_population[m - 1]}\")\n",
    "    new_population = sorted_population[-elitism:]\n",
    "    \n",
    "    while(len(new_population) < m ):\n",
    "        individual1 = selection(sorted_population)\n",
    "        individual2 = selection(sorted_population)\n",
    "        \n",
    "        individual1_cr , individual2_cr = crossover(individual1, individual2)\n",
    "        \n",
    "        individual1_m = mutate(individual1_cr)\n",
    "        individual2_m = mutate(individual2_cr)\n",
    "        \n",
    "        new_population.append(individual1_m)\n",
    "        new_population.append(individual2_m)\n",
    "    return new_population"
   ]
  },
  {
   "cell_type": "code",
   "execution_count": 24,
   "id": "8f01bd4e",
   "metadata": {},
   "outputs": [
    {
     "name": "stdout",
     "output_type": "stream",
     "text": [
      "Best loss: 0.0001516715720906867 - Best individual: [-2.628396524335257, -4.4934549250408455, 7.7298036841874795, 0.8429839277329565, 6.446078816618566]\n",
      "Best loss: 4.1015989813110843e-07 - Best individual: [-0.8738089882494693, -8.911616597772952, 9.870794563169108, 9.801990347049493, -2.286422306205216]\n",
      "Best loss: 3.21751167125491e-07 - Best individual: [0.20191549870515857, -8.911616597772952, 9.870794563169108, 9.850842478015148, -7.902828420561376]\n",
      "Best loss: 3.136885986569483e-07 - Best individual: [0.2846804351883936, -8.911616597772952, 9.870794563169108, 9.850842478015148, -7.902828420561376]\n",
      "Best loss: 2.9530898599418405e-07 - Best individual: [0.2846804351883936, -8.911616597772952, 9.954850795869186, 9.850842478015148, -8.28662360592199]\n",
      "Best loss: 2.9530898599418405e-07 - Best individual: [0.2846804351883936, -8.911616597772952, 9.954850795869186, 9.850842478015148, -8.28662360592199]\n",
      "Best loss: 2.9530898599418405e-07 - Best individual: [0.2846804351883936, -8.911616597772952, 9.954850795869186, 9.850842478015148, -8.28662360592199]\n",
      "Best loss: 2.868910879356107e-07 - Best individual: [0.2846804351883936, -8.911616597772952, 9.954850795869186, 9.961832390967158, -8.28662360592199]\n",
      "Best loss: 2.853284326576538e-07 - Best individual: [0.2893286208075696, -8.911616597772952, 9.961408143215834, 9.961832390967158, -8.381013541244418]\n",
      "Best loss: 2.8525050777586273e-07 - Best individual: [0.31515434979279, -8.911616597772952, 9.961408143215834, 9.961832390967158, -8.381013541244418]\n"
     ]
    }
   ],
   "source": [
    "population = [create_individual() for _ in range(m)]\n",
    "\n",
    "for i in range(n_generation):\n",
    "    population = create_new_population(population, 2 , i)"
   ]
  },
  {
   "cell_type": "code",
   "execution_count": 25,
   "id": "ad32d000",
   "metadata": {},
   "outputs": [
    {
     "data": {
      "text/plain": "<Figure size 640x480 with 1 Axes>",
      "image/png": "[encoded data removed]"
     },
     "metadata": {},
     "output_type": "display_data"
    }
   ],
   "source": [
    "plt.plot(losses, c='green')\n",
    "plt.xlabel('Generations')\n",
    "plt.ylabel('losses')\n",
    "plt.show()"
   ]
  },
  {
   "cell_type": "code",
   "execution_count": 25,
   "id": "927de14d",
   "metadata": {},
   "outputs": [],
   "source": []
  }
 ],
 "metadata": {
  "kernelspec": {
   "display_name": "Python 3 (ipykernel)",
   "language": "python",
   "name": "python3"
  },
  "language_info": {
   "codemirror_mode": {
    "name": "ipython",
    "version": 3
   },
   "file_extension": ".py",
   "mimetype": "text/x-python",
   "name": "python",
   "nbconvert_exporter": "python",
   "pygments_lexer": "ipython3",
   "version": "3.9.7"
  }
 },
 "nbformat": 4,
 "nbformat_minor": 5
}
