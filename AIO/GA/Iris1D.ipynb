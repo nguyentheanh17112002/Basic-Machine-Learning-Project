{
 "cells": [
  {
   "cell_type": "code",
   "execution_count": 1,
   "id": "71dab6cf",
   "metadata": {},
   "outputs": [],
   "source": [
    "import random\n",
    "import numpy as np\n",
    "import pandas as pd\n",
    "import matplotlib.pyplot as plt"
   ]
  },
  {
   "cell_type": "code",
   "execution_count": 2,
   "id": "9c6ec359",
   "metadata": {},
   "outputs": [],
   "source": [
    "data_frame = pd.read_csv(\"iris_1D.csv\")"
   ]
  },
  {
   "cell_type": "code",
   "execution_count": 3,
   "id": "a77bc4e5",
   "metadata": {},
   "outputs": [
    {
     "data": {
      "text/html": [
       "<div>\n",
       "<style scoped>\n",
       "    .dataframe tbody tr th:only-of-type {\n",
       "        vertical-align: middle;\n",
       "    }\n",
       "\n",
       "    .dataframe tbody tr th {\n",
       "        vertical-align: top;\n",
       "    }\n",
       "\n",
       "    .dataframe thead th {\n",
       "        text-align: right;\n",
       "    }\n",
       "</style>\n",
       "<table border=\"1\" class=\"dataframe\">\n",
       "  <thead>\n",
       "    <tr style=\"text-align: right;\">\n",
       "      <th></th>\n",
       "      <th>Petal_Length</th>\n",
       "      <th>Label</th>\n",
       "    </tr>\n",
       "  </thead>\n",
       "  <tbody>\n",
       "    <tr>\n",
       "      <th>0</th>\n",
       "      <td>1.4</td>\n",
       "      <td>0.0</td>\n",
       "    </tr>\n",
       "    <tr>\n",
       "      <th>1</th>\n",
       "      <td>1.0</td>\n",
       "      <td>0.0</td>\n",
       "    </tr>\n",
       "    <tr>\n",
       "      <th>2</th>\n",
       "      <td>1.5</td>\n",
       "      <td>0.0</td>\n",
       "    </tr>\n",
       "    <tr>\n",
       "      <th>3</th>\n",
       "      <td>3.0</td>\n",
       "      <td>1.0</td>\n",
       "    </tr>\n",
       "    <tr>\n",
       "      <th>4</th>\n",
       "      <td>3.8</td>\n",
       "      <td>1.0</td>\n",
       "    </tr>\n",
       "    <tr>\n",
       "      <th>5</th>\n",
       "      <td>4.1</td>\n",
       "      <td>1.0</td>\n",
       "    </tr>\n",
       "  </tbody>\n",
       "</table>\n",
       "</div>"
      ],
      "text/plain": [
       "   Petal_Length   Label\n",
       "0           1.4     0.0\n",
       "1           1.0     0.0\n",
       "2           1.5     0.0\n",
       "3           3.0     1.0\n",
       "4           3.8     1.0\n",
       "5           4.1     1.0"
      ]
     },
     "execution_count": 3,
     "metadata": {},
     "output_type": "execute_result"
    }
   ],
   "source": [
    "data_frame"
   ]
  },
  {
   "cell_type": "code",
   "execution_count": 4,
   "id": "09699e91",
   "metadata": {},
   "outputs": [],
   "source": [
    "X = data_frame.iloc[:,0].values"
   ]
  },
  {
   "cell_type": "code",
   "execution_count": 5,
   "id": "9cbe5314",
   "metadata": {},
   "outputs": [],
   "source": [
    "X = X.reshape(-1 , 1)"
   ]
  },
  {
   "cell_type": "code",
   "execution_count": 6,
   "id": "cce18a0e",
   "metadata": {},
   "outputs": [],
   "source": [
    "temp = np.ones((6 , 1))"
   ]
  },
  {
   "cell_type": "code",
   "execution_count": 7,
   "id": "f15d402f",
   "metadata": {},
   "outputs": [],
   "source": [
    "X = np.concatenate((X, temp) , axis = 1 )"
   ]
  },
  {
   "cell_type": "code",
   "execution_count": 8,
   "id": "350872ba",
   "metadata": {},
   "outputs": [
    {
     "data": {
      "text/plain": [
       "(6, 2)"
      ]
     },
     "execution_count": 8,
     "metadata": {},
     "output_type": "execute_result"
    }
   ],
   "source": [
    "X.shape"
   ]
  },
  {
   "cell_type": "code",
   "execution_count": 9,
   "id": "2896db6e",
   "metadata": {},
   "outputs": [],
   "source": [
    "y = data_frame.iloc[:,-1].values"
   ]
  },
  {
   "cell_type": "markdown",
   "id": "543c5407",
   "metadata": {},
   "source": [
    "# Solving"
   ]
  },
  {
   "cell_type": "code",
   "execution_count": 10,
   "id": "e236795e",
   "metadata": {},
   "outputs": [],
   "source": [
    "n = 2 # individual size\n",
    "m = 50 # population size\n",
    "losses = []\n",
    "n_generation = 60"
   ]
  },
  {
   "cell_type": "code",
   "execution_count": 11,
   "id": "f25711ee",
   "metadata": {},
   "outputs": [],
   "source": [
    "def sigmoid(z):\n",
    "    return 1/(1 + np.exp(-z))"
   ]
  },
  {
   "cell_type": "code",
   "execution_count": 12,
   "id": "83dc1f27",
   "metadata": {},
   "outputs": [],
   "source": [
    "def create_random_value(bound = 20):\n",
    "    return (random.random() - 0.5)*bound"
   ]
  },
  {
   "cell_type": "code",
   "execution_count": 13,
   "id": "6e36d124",
   "metadata": {},
   "outputs": [],
   "source": [
    "def predict(individual):\n",
    "    theta = np.array(individual)\n",
    "    z = np.dot(X, theta)\n",
    "    return sigmoid(z)"
   ]
  },
  {
   "cell_type": "code",
   "execution_count": 14,
   "id": "32d948cc",
   "metadata": {},
   "outputs": [],
   "source": [
    "def compute_loss(individual):\n",
    "    y_hat = predict(individual)\n",
    "    y_hat = np.clip(y_hat, 1e-7, 1 - 1e-7)\n",
    "    return -(y*np.log(y_hat) + (1 - y)*np.log(1- y_hat)).mean()"
   ]
  },
  {
   "cell_type": "code",
   "execution_count": 15,
   "id": "b4f88bc1",
   "metadata": {},
   "outputs": [],
   "source": [
    "def compute_fitness(individual):\n",
    "    return 1/(compute_loss(individual) + 1)"
   ]
  },
  {
   "cell_type": "code",
   "execution_count": 16,
   "id": "3bf8c29b",
   "metadata": {},
   "outputs": [],
   "source": [
    "def create_individual():\n",
    "    return [create_random_value() for _ in range(n)]"
   ]
  },
  {
   "cell_type": "code",
   "execution_count": 17,
   "id": "49117543",
   "metadata": {},
   "outputs": [],
   "source": [
    "def crossover(individual1 , individual2 , cr = 0.9):\n",
    "    individual_1 = individual1.copy()\n",
    "    individual_2 = individual2.copy()\n",
    "    \n",
    "    for i in range(n):\n",
    "        if (random.random() < cr):\n",
    "            individual_1[i] , individual_2[i] = individual2[i], individual1[i]\n",
    "    return individual_1,individual_2\n",
    "    "
   ]
  },
  {
   "cell_type": "code",
   "execution_count": 18,
   "id": "95f04d4b",
   "metadata": {},
   "outputs": [],
   "source": [
    "def mutate(individual , mr = 0.05):\n",
    "    \n",
    "    individual_m = individual.copy()\n",
    "    for i in range(n):\n",
    "        if(random.random() < 0.05):\n",
    "            individual_m[i] = create_random_value()\n",
    "    return individual_m"
   ]
  },
  {
   "cell_type": "code",
   "execution_count": 19,
   "id": "aa8d901a",
   "metadata": {},
   "outputs": [],
   "source": [
    "def selection(sorted_old_population):\n",
    "    ind1 = random.randint(0 , m - 1)\n",
    "    while True:\n",
    "        ind2 =  random.randint(0 , m - 1)\n",
    "        if(ind2 != ind1):\n",
    "            break\n",
    "    return sorted_old_population[ind1] if ind1 > ind2 else sorted_old_population[ind2]"
   ]
  },
  {
   "cell_type": "code",
   "execution_count": 20,
   "id": "be1c16db",
   "metadata": {},
   "outputs": [],
   "source": [
    "def create_new_population(old_population , elitism = 2 ):\n",
    "    sorted_population = sorted(old_population , key = compute_fitness)\n",
    "    \n",
    "    new_population = []\n",
    "    \n",
    "    losses.append(compute_loss(sorted_population[m - 1]))\n",
    "    print(f\"Best losses: {compute_loss(sorted_population[m - 1])}\")\n",
    "    while(len(new_population) < m):\n",
    "        individual1 = selection(sorted_population)\n",
    "        individual2 = selection(sorted_population)\n",
    "\n",
    "        individual1_cr , individual2_cr = crossover(individual1 , individual2 )\n",
    "\n",
    "        individual1_m = mutate(individual1_cr)\n",
    "        individual2_m = mutate(individual2_cr)\n",
    "        \n",
    "        new_population.append(individual1_m)\n",
    "        new_population.append(individual2_m)\n",
    "        \n",
    "    return new_population\n",
    "        "
   ]
  },
  {
   "cell_type": "code",
   "execution_count": 21,
   "id": "2c952d5a",
   "metadata": {},
   "outputs": [
    {
     "name": "stdout",
     "output_type": "stream",
     "text": [
      "Best losses: 0.10072818490302433\n",
      "Best losses: 0.1361601035719494\n",
      "Best losses: 0.1982430004103659\n",
      "Best losses: 0.0673784548338796\n",
      "Best losses: 0.1982430004103659\n",
      "Best losses: 0.1501597518063604\n",
      "Best losses: 0.017089729731829494\n",
      "Best losses: 0.017089729731829494\n",
      "Best losses: 0.017089729731829494\n",
      "Best losses: 0.017089729731829494\n",
      "Best losses: 0.017089729731829494\n",
      "Best losses: 0.017089729731829494\n",
      "Best losses: 0.017089729731829494\n",
      "Best losses: 0.017089729731829494\n",
      "Best losses: 0.017089729731829494\n",
      "Best losses: 0.017089729731829494\n",
      "Best losses: 0.017089729731829494\n",
      "Best losses: 0.017089729731829494\n",
      "Best losses: 0.017089729731829494\n",
      "Best losses: 0.017089729731829494\n",
      "Best losses: 0.017089729731829494\n",
      "Best losses: 0.017089729731829494\n",
      "Best losses: 0.017089729731829494\n",
      "Best losses: 0.017089729731829494\n",
      "Best losses: 0.017089729731829494\n",
      "Best losses: 0.017089729731829494\n",
      "Best losses: 0.017089729731829494\n",
      "Best losses: 0.017089729731829494\n",
      "Best losses: 0.017089729731829494\n",
      "Best losses: 0.017089729731829494\n",
      "Best losses: 0.017089729731829494\n",
      "Best losses: 0.017089729731829494\n",
      "Best losses: 0.017089729731829494\n",
      "Best losses: 0.017089729731829494\n",
      "Best losses: 0.017089729731829494\n",
      "Best losses: 0.017089729731829494\n",
      "Best losses: 0.017089729731829494\n",
      "Best losses: 0.017089729731829494\n",
      "Best losses: 0.017089729731829494\n",
      "Best losses: 0.017089729731829494\n",
      "Best losses: 0.017089729731829494\n",
      "Best losses: 0.017089729731829494\n",
      "Best losses: 0.017089729731829494\n",
      "Best losses: 0.017089729731829494\n",
      "Best losses: 0.017089729731829494\n",
      "Best losses: 0.017089729731829494\n",
      "Best losses: 0.017089729731829494\n",
      "Best losses: 0.017089729731829494\n",
      "Best losses: 0.017089729731829494\n",
      "Best losses: 0.017089729731829494\n",
      "Best losses: 0.017089729731829494\n",
      "Best losses: 0.017089729731829494\n",
      "Best losses: 0.017089729731829494\n",
      "Best losses: 0.017089729731829494\n",
      "Best losses: 0.017089729731829494\n",
      "Best losses: 0.017089729731829494\n",
      "Best losses: 0.017089729731829494\n",
      "Best losses: 0.017089729731829494\n",
      "Best losses: 0.017089729731829494\n",
      "Best losses: 0.017089729731829494\n"
     ]
    }
   ],
   "source": [
    "population = [create_individual() for _ in range(m)]\n",
    "for _ in range(n_generation):\n",
    "    population = create_new_population(population)"
   ]
  },
  {
   "cell_type": "code",
   "execution_count": 22,
   "id": "fa29638e",
   "metadata": {},
   "outputs": [
    {
     "data": {
      "image/png": "[encoded data removed]",
      "text/plain": [
       "<Figure size 640x480 with 1 Axes>"
      ]
     },
     "metadata": {},
     "output_type": "display_data"
    }
   ],
   "source": [
    "plt.plot(losses, c='green')\n",
    "plt.xlabel('Generations')\n",
    "plt.ylabel('losses')\n",
    "plt.show()"
   ]
  },
  {
   "cell_type": "code",
   "execution_count": null,
   "id": "0dd75877",
   "metadata": {},
   "outputs": [],
   "source": []
  }
 ],
 "metadata": {
  "kernelspec": {
   "display_name": "Python 3 (ipykernel)",
   "language": "python",
   "name": "python3"
  },
  "language_info": {
   "codemirror_mode": {
    "name": "ipython",
    "version": 3
   },
   "file_extension": ".py",
   "mimetype": "text/x-python",
   "name": "python",
   "nbconvert_exporter": "python",
   "pygments_lexer": "ipython3",
   "version": "3.9.7"
  }
 },
 "nbformat": 4,
 "nbformat_minor": 5
}
