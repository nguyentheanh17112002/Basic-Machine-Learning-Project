{
 "cells": [
  {
   "cell_type": "code",
   "execution_count": 1,
   "metadata": {},
   "outputs": [],
   "source": [
    "import torch\n",
    "import torchvision\n",
    "from torch import nn\n"
   ]
  },
  {
   "cell_type": "code",
   "execution_count": 2,
   "metadata": {},
   "outputs": [
    {
     "name": "stdout",
     "output_type": "stream",
     "text": [
      "torch.Size([1, 32, 26, 26])\n"
     ]
    }
   ],
   "source": [
    "class ConvBlock(nn.Module):\n",
    "    def __init__(self, in_channels, out_channels, kernel_size):\n",
    "        super().__init__()\n",
    "        self.conv = nn.Conv2d(in_channels, out_channels,kernel_size)\n",
    "        self.bn = nn.BatchNorm2d(out_channels)\n",
    "        self.relu = nn.ReLU6(inplace=True)\n",
    "        self.block = nn.Sequential(\n",
    "            self.conv, self.bn, self.relu\n",
    "        )\n",
    "    def forward(self, x):\n",
    "        out = self.block(x)\n",
    "        return out\n",
    "def testConvBlock():\n",
    "  blk = ConvBlock(1, 32, 3)\n",
    "  x = torch.zeros(1,1,28,28)\n",
    "  out = blk(x)\n",
    "  print(out.shape)\n",
    "testConvBlock()"
   ]
  },
  {
   "cell_type": "code",
   "execution_count": 3,
   "metadata": {},
   "outputs": [],
   "source": [
    "class MnistCNN(nn.Module):\n",
    "    def __init__(self, channels, kernel_size, fc_in):\n",
    "        super().__init__()\n",
    "        layer = [\n",
    "            ConvBlock(in_channels= 1 if i == 0 else channels[i - 1],\n",
    "                      out_channels = c , kernel_size=kernel_size)\n",
    "            for i , c in enumerate(channels)\n",
    "        ]\n",
    "        layer.append(nn.Flatten())\n",
    "        layer.append(nn.Linear(fc_in, 10))\n",
    "        layer.append(nn.LazyBatchNorm1d(10))\n",
    "        self.net = nn.Sequential(*layer)\n",
    "    def forward(self, x):\n",
    "        out = self.net(x)\n",
    "        return out"
   ]
  },
  {
   "cell_type": "code",
   "execution_count": 4,
   "metadata": {},
   "outputs": [
    {
     "name": "stdout",
     "output_type": "stream",
     "text": [
      "torch.Size([10, 10])\n"
     ]
    },
    {
     "name": "stderr",
     "output_type": "stream",
     "text": [
      "C:\\Users\\Acer\\anaconda3\\lib\\site-packages\\torch\\nn\\modules\\lazy.py:180: UserWarning: Lazy modules are a new feature under heavy development so changes to the API or functionality can happen at any moment.\n",
      "  warnings.warn('Lazy modules are a new feature under heavy development '\n"
     ]
    }
   ],
   "source": [
    "def testMnistCNN():\n",
    "  channels = [16*(i+1) for i in range(10)]\n",
    "  kernel_size = 3\n",
    "  fc_in = 10240 # in paper M3 is 11264, M5 is 10240 (detect paper error)\n",
    "  net = MnistCNN(channels, kernel_size, fc_in)\n",
    "  x = torch.zeros(10,1,28,28)\n",
    "  out = net(x)\n",
    "  print(out.shape)\n",
    "\n",
    "testMnistCNN()"
   ]
  },
  {
   "cell_type": "code",
   "execution_count": 5,
   "metadata": {},
   "outputs": [],
   "source": [
    "def get_datasets():\n",
    "    from torchvision import transforms as T\n",
    "    train_transform = T.Compose([\n",
    "        T.RandomAffine(20, translate=(0.2, 0.2), scale=(0.9, 1.1), shear=10),\n",
    "        T.ToTensor()\n",
    "    ])\n",
    "    test_transform = T.Compose([\n",
    "        T.ToTensor()\n",
    "    ])\n",
    "    train_ds = torchvision.datasets.MNIST(\"./data\", train=True, download= True, transform= train_transform)\n",
    "    test_ds = torchvision.datasets.MNIST(\"./data\", train=False, download=True, transform=test_transform)\n",
    "    return dict(train = train_ds, test = test_ds)\n",
    "ds = get_datasets()"
   ]
  },
  {
   "cell_type": "code",
   "execution_count": 6,
   "metadata": {},
   "outputs": [],
   "source": [
    "def get_dataloaders(datasets):\n",
    "    train_loader = torch.utils.data.DataLoader(\n",
    "        dataset=datasets[\"train\"], batch_size=64, shuffle=True, num_workers=2 , drop_last=True\n",
    "    )\n",
    "    test_loader = torch.utils.data.DataLoader(\n",
    "        dataset = datasets[\"test\"], batch_size=64, shuffle=False, num_workers=2, drop_last=False\n",
    "    )\n",
    "    return dict(train=train_loader, test=test_loader)\n",
    "loaders = get_dataloaders(ds)"
   ]
  },
  {
   "cell_type": "code",
   "execution_count": 7,
   "metadata": {},
   "outputs": [
    {
     "name": "stdout",
     "output_type": "stream",
     "text": [
      "torch.Size([64, 1, 28, 28]) torch.Size([64])\n"
     ]
    }
   ],
   "source": [
    "for x, y in loaders['train']:\n",
    "  print(x.shape, y.shape)\n",
    "  break"
   ]
  },
  {
   "cell_type": "code",
   "execution_count": 8,
   "metadata": {},
   "outputs": [],
   "source": [
    "from tqdm import tqdm"
   ]
  },
  {
   "cell_type": "code",
   "execution_count": 10,
   "metadata": {},
   "outputs": [
    {
     "name": "stderr",
     "output_type": "stream",
     "text": [
      "9-test-156 acc train 0.9775 valid 0.9878: 100%|██████████| 10940/10940 [04:45<00:00, 38.30it/s]             "
     ]
    },
    {
     "name": "stdout",
     "output_type": "stream",
     "text": [
      "\n",
      "98.78\n"
     ]
    },
    {
     "name": "stderr",
     "output_type": "stream",
     "text": [
      "\n"
     ]
    }
   ],
   "source": [
    "## training & evaluation code\n",
    "def train_model_and_evaluate(n_epoch=1):\n",
    "  device = \"cuda\"\n",
    "\n",
    "  channels = [16*(i+1) for i in range(10)]\n",
    "  kernel_size = 3\n",
    "  fc_in = 10240 # in paper M3 is 11264, M5 is 10240 (detect paper error)\n",
    "  net = MnistCNN(channels, kernel_size, fc_in)\n",
    "  net = net.to(device)\n",
    "\n",
    "  learning_rate = 1e-3\n",
    "  weight_decay = 1e-4\n",
    "  loss_func = torch.nn.CrossEntropyLoss()\n",
    "  optimizer = torch.optim.Adam(\n",
    "      net.parameters(), lr=learning_rate, weight_decay=weight_decay)\n",
    "  lr_scheduler = torch.optim.lr_scheduler.ExponentialLR(optimizer, gamma=0.98)\n",
    "\n",
    "  def train_epoch():\n",
    "    net.train()\n",
    "    total = 0\n",
    "    total_correct = 0\n",
    "    for step, (images, labels) in enumerate(loaders['train']):\n",
    "      images = images.to(device)\n",
    "      labels = labels.to(device)\n",
    "      out = net(images)\n",
    "      loss = loss_func(out, labels)\n",
    "\n",
    "      ypred = torch.argmax(out, dim=1)\n",
    "      batch_correct = torch.sum(ypred==labels)\n",
    "      total += len(labels)\n",
    "      total_correct += batch_correct.item()\n",
    "\n",
    "      optimizer.zero_grad()\n",
    "      loss.backward()\n",
    "      optimizer.step()\n",
    "\n",
    "      pbar.update()\n",
    "      pbar.set_description(f'{epoch}-train-{step} loss {loss.item():.4f} acc train {total_correct/total:.4f} valid {acc:.4f}')\n",
    "    return total_correct/total\n",
    "\n",
    "  def valid_epoch():\n",
    "    with torch.no_grad():\n",
    "      net.eval()\n",
    "      total = 0\n",
    "      total_correct = 0\n",
    "      for step, (images, labels) in enumerate(loaders['test']):\n",
    "        images = images.to(device)\n",
    "        labels = labels.to(device)\n",
    "        out = net(images)\n",
    "        ypred = torch.argmax(out, dim=1)\n",
    "        batch_correct = torch.sum(ypred==labels)\n",
    "        total += len(labels)\n",
    "        total_correct += batch_correct.item()\n",
    "      \n",
    "        pbar.update()\n",
    "        pbar.set_description(f'{epoch}-test-{step} acc train {train_acc:.4f} valid {total_correct/total:.4f}')\n",
    "    return total_correct/total\n",
    "\n",
    "  total = n_epoch*(len(loaders['train'])+len(loaders['test']))\n",
    "  acc = 0\n",
    "  with tqdm(total=total, position=0, leave=True) as pbar:\n",
    "    for epoch in range(n_epoch):\n",
    "      train_acc = train_epoch()\n",
    "      acc = valid_epoch()\n",
    "\n",
    "      lr_scheduler.step()\n",
    "  print()\n",
    "\n",
    "  return acc\n",
    "\n",
    "accuracy = train_model_and_evaluate(n_epoch=10)\n",
    "print(f\"{accuracy*100:.2f}\")"
   ]
  },
  {
   "cell_type": "code",
   "execution_count": null,
   "metadata": {},
   "outputs": [],
   "source": []
  }
 ],
 "metadata": {
  "kernelspec": {
   "display_name": "Python 3 (ipykernel)",
   "language": "python",
   "name": "python3"
  },
  "language_info": {
   "codemirror_mode": {
    "name": "ipython",
    "version": 3
   },
   "file_extension": ".py",
   "mimetype": "text/x-python",
   "name": "python",
   "nbconvert_exporter": "python",
   "pygments_lexer": "ipython3",
   "version": "3.9.13"
  }
 },
 "nbformat": 4,
 "nbformat_minor": 1
}
