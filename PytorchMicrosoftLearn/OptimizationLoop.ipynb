{
 "cells": [
  {
   "cell_type": "code",
   "execution_count": 1,
   "metadata": {
    "collapsed": true
   },
   "outputs": [],
   "source": [
    "%matplotlib inline\n",
    "import torch\n",
    "from torch import nn\n",
    "from torch.utils.data import DataLoader\n",
    "from torchvision import datasets\n",
    "from torchvision.transforms import ToTensor, Lambda\n"
   ]
  },
  {
   "cell_type": "code",
   "execution_count": 2,
   "outputs": [
    {
     "data": {
      "text/plain": "False"
     },
     "execution_count": 2,
     "metadata": {},
     "output_type": "execute_result"
    }
   ],
   "source": [
    "torch.cuda.is_available()"
   ],
   "metadata": {
    "collapsed": false
   }
  },
  {
   "cell_type": "code",
   "execution_count": 3,
   "outputs": [],
   "source": [
    "training_data = datasets.FashionMNIST(root='data', train= True, download=True, transform= ToTensor() )\n",
    "test_data = datasets.FashionMNIST(root='data', train= False, download= True, transform= ToTensor())"
   ],
   "metadata": {
    "collapsed": false
   }
  },
  {
   "cell_type": "code",
   "execution_count": 4,
   "outputs": [],
   "source": [
    "train_dataloader = DataLoader(training_data, batch_size=64)\n",
    "test_dataloader = DataLoader(test_data, batch_size=64)"
   ],
   "metadata": {
    "collapsed": false
   }
  },
  {
   "cell_type": "code",
   "execution_count": 7,
   "outputs": [],
   "source": [
    "class NeuralNetwork(nn.Module):\n",
    "    def __init__(self):\n",
    "        super(NeuralNetwork, self).__init__()\n",
    "        self.flatten = nn.Flatten()\n",
    "        self.linear_relu_stack = nn.Sequential(\n",
    "            nn.Linear(28*28, 512),\n",
    "            nn.ReLU(),\n",
    "            nn.Linear(512, 512),\n",
    "            nn.ReLU(),\n",
    "            nn.Linear(512, 10),\n",
    "            nn.ReLU()\n",
    "        )\n",
    "    def forward(self, x):\n",
    "        x = self.flatten(x)\n",
    "        logits = self.linear_relu_stack(x)\n",
    "        return logits\n"
   ],
   "metadata": {
    "collapsed": false
   }
  },
  {
   "cell_type": "code",
   "execution_count": 8,
   "outputs": [],
   "source": [
    "model = NeuralNetwork()"
   ],
   "metadata": {
    "collapsed": false
   }
  },
  {
   "cell_type": "code",
   "execution_count": 9,
   "outputs": [],
   "source": [
    "learning_rate = 1e-3\n",
    "batch_size = 64\n",
    "epochs = 5"
   ],
   "metadata": {
    "collapsed": false
   }
  },
  {
   "cell_type": "code",
   "execution_count": 10,
   "outputs": [],
   "source": [
    "loss_fn = nn.CrossEntropyLoss()"
   ],
   "metadata": {
    "collapsed": false
   }
  },
  {
   "cell_type": "code",
   "execution_count": 11,
   "outputs": [],
   "source": [
    "def train_loop(dataloader, model, loss_fn, optimizer):\n",
    "    size = len(dataloader.dataset)\n",
    "    for batch, (X, y) in enumerate(dataloader):\n",
    "        pred = model(X)\n",
    "        loss = loss_fn(pred, y)\n",
    "\n",
    "        #Backpropagation\n",
    "        optimizer.zero_grad()\n",
    "        loss.backward()\n",
    "        optimizer.step()\n",
    "\n",
    "        if batch % 100 == 0:\n",
    "            loss, current = loss.item(), batch * len(X)\n",
    "            print(f\"loss: {loss:>7f}  [{current:>5d}/{size:>5d}]\")\n"
   ],
   "metadata": {
    "collapsed": false
   }
  },
  {
   "cell_type": "code",
   "execution_count": 12,
   "outputs": [],
   "source": [
    "def test_loop(dataloader, model, loss_fn, ):\n",
    "    size = len(dataloader.dataset)\n",
    "    test_loss, correct = 0, 0\n",
    "    with torch.no_grad():\n",
    "        for X, y in dataloader:\n",
    "            pred = model(X)\n",
    "            test_loss += loss_fn(pred, y).item()\n",
    "            correct += (pred.argmax(1) == y).type(torch.float).sum().item()\n",
    "\n",
    "    test_loss /= size\n",
    "    correct /= size\n",
    "\n",
    "    print(f\"Test Error: \\n Accuracy: {(100*correct):>0.1f}%, Avg loss: {test_loss:>8f} \\n\")"
   ],
   "metadata": {
    "collapsed": false
   }
  },
  {
   "cell_type": "code",
   "execution_count": 13,
   "outputs": [
    {
     "name": "stdout",
     "output_type": "stream",
     "text": [
      "Epoch 1\n",
      "-------------------------------\n",
      "loss: 2.295581  [    0/60000]\n",
      "loss: 2.290438  [ 6400/60000]\n",
      "loss: 2.276539  [12800/60000]\n",
      "loss: 2.278729  [19200/60000]\n",
      "loss: 2.273959  [25600/60000]\n",
      "loss: 2.252196  [32000/60000]\n",
      "loss: 2.276104  [38400/60000]\n",
      "loss: 2.251367  [44800/60000]\n",
      "loss: 2.240798  [51200/60000]\n",
      "loss: 2.229467  [57600/60000]\n",
      "Test Error: \n",
      " Accuracy: 34.3%, Avg loss: 0.035049 \n",
      "\n",
      "Epoch 2\n",
      "-------------------------------\n",
      "loss: 2.234874  [    0/60000]\n",
      "loss: 2.231728  [ 6400/60000]\n",
      "loss: 2.187141  [12800/60000]\n",
      "loss: 2.210841  [19200/60000]\n",
      "loss: 2.191213  [25600/60000]\n",
      "loss: 2.155420  [32000/60000]\n",
      "loss: 2.216372  [38400/60000]\n",
      "loss: 2.162703  [44800/60000]\n",
      "loss: 2.155878  [51200/60000]\n",
      "loss: 2.134834  [57600/60000]\n",
      "Test Error: \n",
      " Accuracy: 37.6%, Avg loss: 0.033558 \n",
      "\n",
      "Epoch 3\n",
      "-------------------------------\n",
      "loss: 2.143616  [    0/60000]\n",
      "loss: 2.138098  [ 6400/60000]\n",
      "loss: 2.048549  [12800/60000]\n",
      "loss: 2.106218  [19200/60000]\n",
      "loss: 2.059791  [25600/60000]\n",
      "loss: 2.014601  [32000/60000]\n",
      "loss: 2.119075  [38400/60000]\n",
      "loss: 2.030406  [44800/60000]\n",
      "loss: 2.037778  [51200/60000]\n",
      "loss: 2.006590  [57600/60000]\n",
      "Test Error: \n",
      " Accuracy: 38.1%, Avg loss: 0.031495 \n",
      "\n",
      "Epoch 4\n",
      "-------------------------------\n",
      "loss: 2.020059  [    0/60000]\n",
      "loss: 2.016346  [ 6400/60000]\n",
      "loss: 1.873614  [12800/60000]\n",
      "loss: 1.974987  [19200/60000]\n",
      "loss: 1.910467  [25600/60000]\n",
      "loss: 1.869694  [32000/60000]\n",
      "loss: 2.017344  [38400/60000]\n",
      "loss: 1.906919  [44800/60000]\n",
      "loss: 1.926055  [51200/60000]\n",
      "loss: 1.897962  [57600/60000]\n",
      "Test Error: \n",
      " Accuracy: 38.6%, Avg loss: 0.029688 \n",
      "\n",
      "Epoch 5\n",
      "-------------------------------\n",
      "loss: 1.911586  [    0/60000]\n",
      "loss: 1.918170  [ 6400/60000]\n",
      "loss: 1.734180  [12800/60000]\n",
      "loss: 1.872939  [19200/60000]\n",
      "loss: 1.804552  [25600/60000]\n",
      "loss: 1.774478  [32000/60000]\n",
      "loss: 1.940452  [38400/60000]\n",
      "loss: 1.824851  [44800/60000]\n",
      "loss: 1.844785  [51200/60000]\n",
      "loss: 1.829624  [57600/60000]\n",
      "Test Error: \n",
      " Accuracy: 41.4%, Avg loss: 0.028457 \n",
      "\n",
      "Epoch 6\n",
      "-------------------------------\n",
      "loss: 1.832101  [    0/60000]\n",
      "loss: 1.850447  [ 6400/60000]\n",
      "loss: 1.637702  [12800/60000]\n",
      "loss: 1.804968  [19200/60000]\n",
      "loss: 1.729654  [25600/60000]\n",
      "loss: 1.710381  [32000/60000]\n",
      "loss: 1.882518  [38400/60000]\n",
      "loss: 1.764424  [44800/60000]\n",
      "loss: 1.780154  [51200/60000]\n",
      "loss: 1.781947  [57600/60000]\n",
      "Test Error: \n",
      " Accuracy: 43.3%, Avg loss: 0.027558 \n",
      "\n",
      "Epoch 7\n",
      "-------------------------------\n",
      "loss: 1.770750  [    0/60000]\n",
      "loss: 1.801530  [ 6400/60000]\n",
      "loss: 1.564561  [12800/60000]\n",
      "loss: 1.754059  [19200/60000]\n",
      "loss: 1.675010  [25600/60000]\n",
      "loss: 1.661969  [32000/60000]\n",
      "loss: 1.839194  [38400/60000]\n",
      "loss: 1.715813  [44800/60000]\n",
      "loss: 1.728773  [51200/60000]\n",
      "loss: 1.744671  [57600/60000]\n",
      "Test Error: \n",
      " Accuracy: 44.3%, Avg loss: 0.026855 \n",
      "\n",
      "Epoch 8\n",
      "-------------------------------\n",
      "loss: 1.719644  [    0/60000]\n",
      "loss: 1.761075  [ 6400/60000]\n",
      "loss: 1.504944  [12800/60000]\n",
      "loss: 1.712880  [19200/60000]\n",
      "loss: 1.635003  [25600/60000]\n",
      "loss: 1.623013  [32000/60000]\n",
      "loss: 1.806206  [38400/60000]\n",
      "loss: 1.676422  [44800/60000]\n",
      "loss: 1.686287  [51200/60000]\n",
      "loss: 1.712879  [57600/60000]\n",
      "Test Error: \n",
      " Accuracy: 45.1%, Avg loss: 0.026285 \n",
      "\n",
      "Epoch 9\n",
      "-------------------------------\n",
      "loss: 1.675509  [    0/60000]\n",
      "loss: 1.725394  [ 6400/60000]\n",
      "loss: 1.454707  [12800/60000]\n",
      "loss: 1.676516  [19200/60000]\n",
      "loss: 1.604011  [25600/60000]\n",
      "loss: 1.591758  [32000/60000]\n",
      "loss: 1.780249  [38400/60000]\n",
      "loss: 1.645797  [44800/60000]\n",
      "loss: 1.650888  [51200/60000]\n",
      "loss: 1.685659  [57600/60000]\n",
      "Test Error: \n",
      " Accuracy: 46.0%, Avg loss: 0.025813 \n",
      "\n",
      "Epoch 10\n",
      "-------------------------------\n",
      "loss: 1.638607  [    0/60000]\n",
      "loss: 1.694905  [ 6400/60000]\n",
      "loss: 1.412259  [12800/60000]\n",
      "loss: 1.644847  [19200/60000]\n",
      "loss: 1.579909  [25600/60000]\n",
      "loss: 1.566218  [32000/60000]\n",
      "loss: 1.759114  [38400/60000]\n",
      "loss: 1.620726  [44800/60000]\n",
      "loss: 1.621069  [51200/60000]\n",
      "loss: 1.662550  [57600/60000]\n",
      "Test Error: \n",
      " Accuracy: 46.6%, Avg loss: 0.025420 \n",
      "\n",
      "Done!\n"
     ]
    }
   ],
   "source": [
    "loss_fn = nn.CrossEntropyLoss()\n",
    "optimizer = torch.optim.SGD(model.parameters(), lr=learning_rate)\n",
    "\n",
    "epochs = 10\n",
    "for t in range(epochs):\n",
    "    print(f\"Epoch {t+1}\\n-------------------------------\")\n",
    "    train_loop(train_dataloader, model, loss_fn, optimizer)\n",
    "    test_loop(test_dataloader, model, loss_fn)\n",
    "print(\"Done!\")"
   ],
   "metadata": {
    "collapsed": false
   }
  },
  {
   "cell_type": "code",
   "execution_count": 14,
   "outputs": [
    {
     "name": "stdout",
     "output_type": "stream",
     "text": [
      "Saved PyTorch Model State to model.pth\n"
     ]
    }
   ],
   "source": [
    "torch.save(model.state_dict(), \"data/model.pth\")\n",
    "\n",
    "print(\"Saved PyTorch Model State to model.pth\")"
   ],
   "metadata": {
    "collapsed": false
   }
  },
  {
   "cell_type": "code",
   "execution_count": null,
   "outputs": [],
   "source": [],
   "metadata": {
    "collapsed": false
   }
  }
 ],
 "metadata": {
  "kernelspec": {
   "display_name": "Python 3",
   "language": "python",
   "name": "python3"
  },
  "language_info": {
   "codemirror_mode": {
    "name": "ipython",
    "version": 2
   },
   "file_extension": ".py",
   "mimetype": "text/x-python",
   "name": "python",
   "nbconvert_exporter": "python",
   "pygments_lexer": "ipython2",
   "version": "2.7.6"
  }
 },
 "nbformat": 4,
 "nbformat_minor": 0
}
