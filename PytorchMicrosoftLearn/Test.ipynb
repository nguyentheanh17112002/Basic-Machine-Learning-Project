{
 "cells": [
  {
   "cell_type": "code",
   "execution_count": 2,
   "outputs": [],
   "source": [
    "def mod_prime(b , n , m):\n",
    "    res = 1\n",
    "    for i in range(n):\n",
    "        res = (res*b) % m\n",
    "    return res\n"
   ],
   "metadata": {
    "collapsed": false
   }
  },
  {
   "cell_type": "code",
   "execution_count": 3,
   "outputs": [],
   "source": [
    "def Ptich(n):\n",
    "    res = []\n",
    "    i = 2\n",
    "    while(n != 1):\n",
    "        check = True if n % i == 0 else False\n",
    "        if(check):\n",
    "            res.append(i)\n",
    "        while(n%i == 0):\n",
    "            n /= i\n",
    "        i += 1\n",
    "    return res"
   ],
   "metadata": {
    "collapsed": false
   }
  },
  {
   "cell_type": "code",
   "execution_count": 4,
   "outputs": [
    {
     "ename": "KeyboardInterrupt",
     "evalue": "",
     "output_type": "error",
     "traceback": [
      "\u001B[1;31m---------------------------------------------------------------------------\u001B[0m",
      "\u001B[1;31mKeyboardInterrupt\u001B[0m                         Traceback (most recent call last)",
      "Cell \u001B[1;32mIn [4], line 1\u001B[0m\n\u001B[1;32m----> 1\u001B[0m \u001B[38;5;28mprint\u001B[39m(Ptich(\u001B[38;5;241m18987964267331664556\u001B[39m))\n",
      "Cell \u001B[1;32mIn [3], line 8\u001B[0m, in \u001B[0;36mPtich\u001B[1;34m(n)\u001B[0m\n\u001B[0;32m      6\u001B[0m \u001B[38;5;28;01mif\u001B[39;00m(check):\n\u001B[0;32m      7\u001B[0m     res\u001B[38;5;241m.\u001B[39mappend(i)\n\u001B[1;32m----> 8\u001B[0m \u001B[38;5;28;01mwhile\u001B[39;00m(\u001B[43mn\u001B[49m\u001B[38;5;241;43m%\u001B[39;49m\u001B[43mi\u001B[49m \u001B[38;5;241m==\u001B[39m \u001B[38;5;241m0\u001B[39m):\n\u001B[0;32m      9\u001B[0m     n \u001B[38;5;241m/\u001B[39m\u001B[38;5;241m=\u001B[39m i\n\u001B[0;32m     10\u001B[0m i \u001B[38;5;241m+\u001B[39m\u001B[38;5;241m=\u001B[39m \u001B[38;5;241m1\u001B[39m\n",
      "\u001B[1;31mKeyboardInterrupt\u001B[0m: "
     ]
    }
   ],
   "source": [
    "print(Ptich(18987964267331664556))"
   ],
   "metadata": {
    "collapsed": false
   }
  },
  {
   "cell_type": "code",
   "execution_count": null,
   "outputs": [],
   "source": [],
   "metadata": {
    "collapsed": false
   }
  }
 ],
 "metadata": {
  "kernelspec": {
   "display_name": "Python 3",
   "language": "python",
   "name": "python3"
  },
  "language_info": {
   "codemirror_mode": {
    "name": "ipython",
    "version": 2
   },
   "file_extension": ".py",
   "mimetype": "text/x-python",
   "name": "python",
   "nbconvert_exporter": "python",
   "pygments_lexer": "ipython2",
   "version": "2.7.6"
  }
 },
 "nbformat": 4,
 "nbformat_minor": 0
}
