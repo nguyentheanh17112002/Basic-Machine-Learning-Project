{
 "cells": [
  {
   "cell_type": "code",
   "execution_count": 1,
   "outputs": [],
   "source": [
    "import torch\n",
    "import torch.nn as nn\n",
    "import torchvision\n",
    "import torchvision.transforms as transforms"
   ],
   "metadata": {
    "collapsed": false
   }
  },
  {
   "cell_type": "code",
   "execution_count": 2,
   "outputs": [],
   "source": [
    "device = torch.device('cuda' if torch.cuda.is_available() else 'cpu')"
   ],
   "metadata": {
    "collapsed": false
   }
  },
  {
   "cell_type": "code",
   "execution_count": 3,
   "outputs": [
    {
     "data": {
      "text/plain": "device(type='cuda')"
     },
     "execution_count": 3,
     "metadata": {},
     "output_type": "execute_result"
    }
   ],
   "source": [
    "device"
   ],
   "metadata": {
    "collapsed": false
   }
  },
  {
   "cell_type": "code",
   "execution_count": 4,
   "outputs": [],
   "source": [
    "input_size = 784\n",
    "hidden_size = 500\n",
    "num_classes = 10\n",
    "num_epochs = 5\n",
    "batch_size = 100\n",
    "learning_rate = 0.001"
   ],
   "metadata": {
    "collapsed": false
   }
  },
  {
   "cell_type": "code",
   "execution_count": 5,
   "outputs": [],
   "source": [
    "train_dataset = torchvision.datasets.MNIST(root=\"../../data\" , train=True, transform= transforms.ToTensor(), download=True )\n",
    "test_dataset = torchvision.datasets.MNIST(root=\"../../data\", train= False, transform= transforms.ToTensor(), download=True)"
   ],
   "metadata": {
    "collapsed": false
   }
  },
  {
   "cell_type": "code",
   "execution_count": 6,
   "outputs": [],
   "source": [
    "train_loader = torch.utils.data.DataLoader(dataset=train_dataset, batch_size= batch_size, shuffle=True)\n",
    "test_loader = torch.utils.data.DataLoader(dataset=test_dataset, batch_size = batch_size, shuffle=False)"
   ],
   "metadata": {
    "collapsed": false
   }
  },
  {
   "cell_type": "code",
   "execution_count": 7,
   "outputs": [],
   "source": [
    "class NeuralNetwork(nn.Module):\n",
    "    def __init__(self, input_size, hidden_size, num_classes):\n",
    "        super(NeuralNetwork, self).__init__()\n",
    "        self.fc1 = nn.Linear(input_size, hidden_size)\n",
    "        self.relu = nn.ReLU()\n",
    "        self.fc2 = nn.Linear(hidden_size, num_classes)\n",
    "    def forward(self, x):\n",
    "        out = self.fc1(x)\n",
    "        out = self.relu(out)\n",
    "        out = self.fc2(out)\n",
    "        return out"
   ],
   "metadata": {
    "collapsed": false
   }
  },
  {
   "cell_type": "code",
   "execution_count": 8,
   "outputs": [],
   "source": [
    "model = NeuralNetwork(input_size, hidden_size, num_classes).to(device)"
   ],
   "metadata": {
    "collapsed": false
   }
  },
  {
   "cell_type": "code",
   "execution_count": 9,
   "outputs": [],
   "source": [
    "criterion = nn.CrossEntropyLoss()\n",
    "optimizer = torch.optim.Adam(model.parameters(), lr=learning_rate)"
   ],
   "metadata": {
    "collapsed": false
   }
  },
  {
   "cell_type": "code",
   "execution_count": 10,
   "outputs": [
    {
     "name": "stdout",
     "output_type": "stream",
     "text": [
      "Epoch [1/5], Step [100/600], Loss: 0.2775\n",
      "Epoch [1/5], Step [200/600], Loss: 0.2926\n",
      "Epoch [1/5], Step [300/600], Loss: 0.1252\n",
      "Epoch [1/5], Step [400/600], Loss: 0.1005\n",
      "Epoch [1/5], Step [500/600], Loss: 0.1589\n",
      "Epoch [1/5], Step [600/600], Loss: 0.1313\n",
      "Epoch [2/5], Step [100/600], Loss: 0.1201\n",
      "Epoch [2/5], Step [200/600], Loss: 0.2019\n",
      "Epoch [2/5], Step [300/600], Loss: 0.1584\n",
      "Epoch [2/5], Step [400/600], Loss: 0.2679\n",
      "Epoch [2/5], Step [500/600], Loss: 0.0654\n",
      "Epoch [2/5], Step [600/600], Loss: 0.0410\n",
      "Epoch [3/5], Step [100/600], Loss: 0.0282\n",
      "Epoch [3/5], Step [200/600], Loss: 0.0378\n",
      "Epoch [3/5], Step [300/600], Loss: 0.0462\n",
      "Epoch [3/5], Step [400/600], Loss: 0.0312\n",
      "Epoch [3/5], Step [500/600], Loss: 0.0671\n",
      "Epoch [3/5], Step [600/600], Loss: 0.0762\n",
      "Epoch [4/5], Step [100/600], Loss: 0.0332\n",
      "Epoch [4/5], Step [200/600], Loss: 0.0267\n",
      "Epoch [4/5], Step [300/600], Loss: 0.0482\n",
      "Epoch [4/5], Step [400/600], Loss: 0.0496\n",
      "Epoch [4/5], Step [500/600], Loss: 0.0317\n",
      "Epoch [4/5], Step [600/600], Loss: 0.0416\n",
      "Epoch [5/5], Step [100/600], Loss: 0.0796\n",
      "Epoch [5/5], Step [200/600], Loss: 0.0668\n",
      "Epoch [5/5], Step [300/600], Loss: 0.0095\n",
      "Epoch [5/5], Step [400/600], Loss: 0.1055\n",
      "Epoch [5/5], Step [500/600], Loss: 0.0414\n",
      "Epoch [5/5], Step [600/600], Loss: 0.0739\n"
     ]
    }
   ],
   "source": [
    "total_step = len(train_loader)\n",
    "for epoch in range(num_epochs):\n",
    "    for i, (images, labels) in enumerate(train_loader):\n",
    "        images = images.reshape(-1, 28*28).to(device)\n",
    "        labels = labels.to(device)\n",
    "\n",
    "        outputs = model(images)\n",
    "        loss = criterion(outputs, labels)\n",
    "\n",
    "        optimizer.zero_grad()\n",
    "        loss.backward()\n",
    "        optimizer.step()\n",
    "\n",
    "        if (i+1) % 100 == 0:\n",
    "            print ('Epoch [{}/{}], Step [{}/{}], Loss: {:.4f}'.format(epoch+1, num_epochs, i+1, total_step, loss.item()))"
   ],
   "metadata": {
    "collapsed": false
   }
  },
  {
   "cell_type": "code",
   "execution_count": 12,
   "outputs": [
    {
     "name": "stdout",
     "output_type": "stream",
     "text": [
      "Accuracy of the network on the 10000 test images: 97.87 %\n"
     ]
    }
   ],
   "source": [
    "with torch.no_grad():\n",
    "    correct = 0\n",
    "    total = 0\n",
    "    for images, labels in test_loader:\n",
    "        images = images.reshape(-1, 28*28).to(device)\n",
    "        labels = labels.to(device)\n",
    "        outputs = model(images)\n",
    "        _, predicted = torch.max(outputs.data, 1)\n",
    "        total += labels.size(0)\n",
    "        correct += (predicted == labels).sum().item()\n",
    "\n",
    "    print('Accuracy of the network on the 10000 test images: {} %'.format(100 * correct / total))\n"
   ],
   "metadata": {
    "collapsed": false
   }
  },
  {
   "cell_type": "code",
   "execution_count": 13,
   "outputs": [],
   "source": [
    "torch.save(model.state_dict(), 'FeedForwardModel.ckpt')"
   ],
   "metadata": {
    "collapsed": false
   }
  },
  {
   "cell_type": "code",
   "execution_count": null,
   "outputs": [],
   "source": [],
   "metadata": {
    "collapsed": false
   }
  }
 ],
 "metadata": {
  "kernelspec": {
   "display_name": "Python 3",
   "language": "python",
   "name": "python3"
  },
  "language_info": {
   "codemirror_mode": {
    "name": "ipython",
    "version": 2
   },
   "file_extension": ".py",
   "mimetype": "text/x-python",
   "name": "python",
   "nbconvert_exporter": "python",
   "pygments_lexer": "ipython2",
   "version": "2.7.6"
  }
 },
 "nbformat": 4,
 "nbformat_minor": 0
}
